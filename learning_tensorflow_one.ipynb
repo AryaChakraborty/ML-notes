{
  "nbformat": 4,
  "nbformat_minor": 0,
  "metadata": {
    "colab": {
      "name": "learning_tensorflow_one.ipynb",
      "provenance": []
    },
    "kernelspec": {
      "name": "python3",
      "display_name": "Python 3"
    },
    "language_info": {
      "name": "python"
    }
  },
  "cells": [
    {
      "cell_type": "code",
      "execution_count": 1,
      "metadata": {
        "id": "DJErnel0YM8S"
      },
      "outputs": [],
      "source": [
        "import tensorflow as tf"
      ]
    },
    {
      "cell_type": "code",
      "source": [
        "a = tf.constant(5)\n",
        "print(a)\n",
        "# This creates an object tensor which is a constant number of data type int32"
      ],
      "metadata": {
        "colab": {
          "base_uri": "https://localhost:8080/"
        },
        "id": "zf9afknxYZEw",
        "outputId": "ada01677-aa70-4bcc-bc2f-a669e0007d43"
      },
      "execution_count": 2,
      "outputs": [
        {
          "output_type": "stream",
          "name": "stdout",
          "text": [
            "tf.Tensor(5, shape=(), dtype=int32)\n"
          ]
        }
      ]
    },
    {
      "cell_type": "code",
      "source": [
        "b = tf.constant(15)\n",
        "c = tf.add(a, b)\n",
        "print(c)"
      ],
      "metadata": {
        "colab": {
          "base_uri": "https://localhost:8080/"
        },
        "id": "F9CntGTFYtz1",
        "outputId": "477de3a3-e4a9-481d-a3e7-c52850af02f7"
      },
      "execution_count": 3,
      "outputs": [
        {
          "output_type": "stream",
          "name": "stdout",
          "text": [
            "tf.Tensor(20, shape=(), dtype=int32)\n"
          ]
        }
      ]
    },
    {
      "cell_type": "code",
      "source": [
        "var1 = tf.Variable(10)\n",
        "print(var1)"
      ],
      "metadata": {
        "colab": {
          "base_uri": "https://localhost:8080/"
        },
        "id": "IpD7a08dZkOG",
        "outputId": "98ab3787-d884-4c19-fa3c-e0e22d9719f5"
      },
      "execution_count": 4,
      "outputs": [
        {
          "output_type": "stream",
          "name": "stdout",
          "text": [
            "<tf.Variable 'Variable:0' shape=() dtype=int32, numpy=10>\n"
          ]
        }
      ]
    },
    {
      "cell_type": "code",
      "source": [
        "var2 = tf.Variable([[1, 2], [3, 4]])\n",
        "var3 = tf.Variable([[5, 6], [7, 8]])\n",
        "print(tf.matmul(var2, var3))"
      ],
      "metadata": {
        "colab": {
          "base_uri": "https://localhost:8080/"
        },
        "id": "oMcX9GAVZrSl",
        "outputId": "66489bd5-0e45-4bce-ebd6-58b5aa038104"
      },
      "execution_count": 5,
      "outputs": [
        {
          "output_type": "stream",
          "name": "stdout",
          "text": [
            "tf.Tensor(\n",
            "[[19 22]\n",
            " [43 50]], shape=(2, 2), dtype=int32)\n"
          ]
        }
      ]
    },
    {
      "cell_type": "code",
      "source": [
        "(x_train, y_train), (x_test, y_test) = tf.keras.datasets.mnist.load_data()"
      ],
      "metadata": {
        "id": "cNN7H4GVpv6J",
        "colab": {
          "base_uri": "https://localhost:8080/"
        },
        "outputId": "fcd65f0e-92d1-41aa-e9a2-572fa7a9f86b"
      },
      "execution_count": 6,
      "outputs": [
        {
          "output_type": "stream",
          "name": "stdout",
          "text": [
            "Downloading data from https://storage.googleapis.com/tensorflow/tf-keras-datasets/mnist.npz\n",
            "11493376/11490434 [==============================] - 0s 0us/step\n",
            "11501568/11490434 [==============================] - 0s 0us/step\n"
          ]
        }
      ]
    },
    {
      "cell_type": "code",
      "source": [
        "print(x_train.shape)"
      ],
      "metadata": {
        "colab": {
          "base_uri": "https://localhost:8080/"
        },
        "id": "eWXE3ySEp-JY",
        "outputId": "4d8faf84-5451-4422-da55-6a3f6b8da5de"
      },
      "execution_count": 7,
      "outputs": [
        {
          "output_type": "stream",
          "name": "stdout",
          "text": [
            "(60000, 28, 28)\n"
          ]
        }
      ]
    },
    {
      "cell_type": "code",
      "source": [
        "print(y_train.shape)"
      ],
      "metadata": {
        "colab": {
          "base_uri": "https://localhost:8080/"
        },
        "id": "P_hWo2HgqEQN",
        "outputId": "a8f0171e-1de3-4f82-9b5a-4e835615a7b1"
      },
      "execution_count": 8,
      "outputs": [
        {
          "output_type": "stream",
          "name": "stdout",
          "text": [
            "(60000,)\n"
          ]
        }
      ]
    },
    {
      "cell_type": "code",
      "source": [
        "print(x_test.shape, y_test.shape)"
      ],
      "metadata": {
        "colab": {
          "base_uri": "https://localhost:8080/"
        },
        "id": "WpMNHxeQqJOL",
        "outputId": "08fbbf66-eb1b-4736-f675-80a605600eba"
      },
      "execution_count": 9,
      "outputs": [
        {
          "output_type": "stream",
          "name": "stdout",
          "text": [
            "(10000, 28, 28) (10000,)\n"
          ]
        }
      ]
    },
    {
      "cell_type": "code",
      "source": [
        "import matplotlib.pyplot as plt\n",
        "plt.imshow(x_train[0])\n",
        "plt.show()\n",
        "print(y_train[0])"
      ],
      "metadata": {
        "colab": {
          "base_uri": "https://localhost:8080/",
          "height": 283
        },
        "id": "7e-uxwdJqVQs",
        "outputId": "37a8bc04-04c9-445b-bf0f-4790f5652eb9"
      },
      "execution_count": 10,
      "outputs": [
        {
          "output_type": "display_data",
          "data": {
            "text/plain": [
              "<Figure size 432x288 with 1 Axes>"
            ],
            "image/png": "[encoded data removed]"
          },
          "metadata": {
            "needs_background": "light"
          }
        },
        {
          "output_type": "stream",
          "name": "stdout",
          "text": [
            "5\n"
          ]
        }
      ]
    },
    {
      "cell_type": "code",
      "source": [
        "x_train = x_train.reshape(x_train.shape[0], 784)/255.0 # 28*28 = 784\n",
        "# we divided by 255 because the datain every cell is between 0 to 255, so we had to normalise it\n",
        "x_train.shape"
      ],
      "metadata": {
        "colab": {
          "base_uri": "https://localhost:8080/"
        },
        "id": "hjRk6eMkqsGE",
        "outputId": "493a7aa3-4b2c-4fee-fd72-5203b96c0676"
      },
      "execution_count": 11,
      "outputs": [
        {
          "output_type": "execute_result",
          "data": {
            "text/plain": [
              "(60000, 784)"
            ]
          },
          "metadata": {},
          "execution_count": 11
        }
      ]
    },
    {
      "cell_type": "code",
      "source": [
        "# similarly\n",
        "x_test = x_test.reshape(x_test.shape[0], 784)/255.0\n",
        "x_test.shape"
      ],
      "metadata": {
        "colab": {
          "base_uri": "https://localhost:8080/"
        },
        "id": "QftVBaPSr5CH",
        "outputId": "ebc6cdf7-a30a-40c1-ccc8-14671f58c5fe"
      },
      "execution_count": 12,
      "outputs": [
        {
          "output_type": "execute_result",
          "data": {
            "text/plain": [
              "(10000, 784)"
            ]
          },
          "metadata": {},
          "execution_count": 12
        }
      ]
    },
    {
      "cell_type": "code",
      "source": [
        "# now we have to one hot encode the output labels since the output is between 0 to 9\n",
        "y_train = tf.keras.utils.to_categorical(y_train)\n",
        "y_test = tf.keras.utils.to_categorical(y_test)\n",
        "print(y_train.shape, y_test.shape)"
      ],
      "metadata": {
        "colab": {
          "base_uri": "https://localhost:8080/"
        },
        "id": "EN6h7-x-sGt_",
        "outputId": "49cb4780-beed-4e1f-bb7e-26f0ffca5a6e"
      },
      "execution_count": 13,
      "outputs": [
        {
          "output_type": "stream",
          "name": "stdout",
          "text": [
            "(60000, 10) (10000, 10)\n"
          ]
        }
      ]
    },
    {
      "cell_type": "code",
      "source": [
        "# importing sequential API\n",
        "from tensorflow.keras import Sequential\n",
        "from tensorflow.keras.layers import Dense"
      ],
      "metadata": {
        "id": "AkVOxe7P7mec"
      },
      "execution_count": 14,
      "outputs": []
    },
    {
      "cell_type": "code",
      "source": [
        "model = Sequential()\n",
        "model.add(Dense(256, activation = 'relu', input_shape = (784,)))\n",
        "model.add(Dense(256, activation = 'relu'))\n",
        "# 2 layered Neural Network\n",
        "model.add(Dense(10, activation = 'softmax'))\n",
        "# output layer above"
      ],
      "metadata": {
        "id": "wGfPCyOR749V"
      },
      "execution_count": 15,
      "outputs": []
    },
    {
      "cell_type": "code",
      "source": [
        "model.compile(optimizer = 'adam', loss = 'categorical_crossentropy', metrics = ['accuracy'])"
      ],
      "metadata": {
        "id": "589FaN2P8u_-"
      },
      "execution_count": 16,
      "outputs": []
    },
    {
      "cell_type": "code",
      "source": [
        "model.fit(x_train, y_train, epochs = 10, batch_size = 1000)"
      ],
      "metadata": {
        "colab": {
          "base_uri": "https://localhost:8080/"
        },
        "id": "a1scgM0v9CI8",
        "outputId": "df3c0760-c01b-43cd-cbbc-0060891804e7"
      },
      "execution_count": 17,
      "outputs": [
        {
          "output_type": "stream",
          "name": "stdout",
          "text": [
            "Epoch 1/10\n",
            "60/60 [==============================] - 2s 29ms/step - loss: 0.5604 - accuracy: 0.8492\n",
            "Epoch 2/10\n",
            "60/60 [==============================] - 2s 29ms/step - loss: 0.1999 - accuracy: 0.9421\n",
            "Epoch 3/10\n",
            "60/60 [==============================] - 2s 29ms/step - loss: 0.1436 - accuracy: 0.9584\n",
            "Epoch 4/10\n",
            "60/60 [==============================] - 2s 31ms/step - loss: 0.1110 - accuracy: 0.9680\n",
            "Epoch 5/10\n",
            "60/60 [==============================] - 3s 53ms/step - loss: 0.0868 - accuracy: 0.9749\n",
            "Epoch 6/10\n",
            "60/60 [==============================] - 3s 52ms/step - loss: 0.0706 - accuracy: 0.9797\n",
            "Epoch 7/10\n",
            "60/60 [==============================] - 4s 59ms/step - loss: 0.0591 - accuracy: 0.9830\n",
            "Epoch 8/10\n",
            "60/60 [==============================] - 3s 58ms/step - loss: 0.0500 - accuracy: 0.9863\n",
            "Epoch 9/10\n",
            "60/60 [==============================] - 3s 58ms/step - loss: 0.0409 - accuracy: 0.9888\n",
            "Epoch 10/10\n",
            "60/60 [==============================] - 3s 52ms/step - loss: 0.0355 - accuracy: 0.9902\n"
          ]
        },
        {
          "output_type": "execute_result",
          "data": {
            "text/plain": [
              "<keras.callbacks.History at 0x7f1f1c2f1410>"
            ]
          },
          "metadata": {},
          "execution_count": 17
        }
      ]
    },
    {
      "cell_type": "code",
      "source": [
        "model.evaluate(x_test, y_test)"
      ],
      "metadata": {
        "colab": {
          "base_uri": "https://localhost:8080/"
        },
        "id": "2ScSPR1n9jCb",
        "outputId": "b7645ae5-880c-4adb-a598-0a376f571d0c"
      },
      "execution_count": 18,
      "outputs": [
        {
          "output_type": "stream",
          "name": "stdout",
          "text": [
            "313/313 [==============================] - 1s 2ms/step - loss: 0.0764 - accuracy: 0.9770\n"
          ]
        },
        {
          "output_type": "execute_result",
          "data": {
            "text/plain": [
              "[0.07640822231769562, 0.9769999980926514]"
            ]
          },
          "metadata": {},
          "execution_count": 18
        }
      ]
    },
    {
      "cell_type": "code",
      "source": [
        "model.summary()"
      ],
      "metadata": {
        "colab": {
          "base_uri": "https://localhost:8080/"
        },
        "id": "eQPG0X3y_1b6",
        "outputId": "039563e0-bd5c-48e6-8ccd-61ad0c0a9db7"
      },
      "execution_count": 19,
      "outputs": [
        {
          "output_type": "stream",
          "name": "stdout",
          "text": [
            "Model: \"sequential\"\n",
            "_________________________________________________________________\n",
            " Layer (type)                Output Shape              Param #   \n",
            "=================================================================\n",
            " dense (Dense)               (None, 256)               200960    \n",
            "                                                                 \n",
            " dense_1 (Dense)             (None, 256)               65792     \n",
            "                                                                 \n",
            " dense_2 (Dense)             (None, 10)                2570      \n",
            "                                                                 \n",
            "=================================================================\n",
            "Total params: 269,322\n",
            "Trainable params: 269,322\n",
            "Non-trainable params: 0\n",
            "_________________________________________________________________\n"
          ]
        }
      ]
    },
    {
      "cell_type": "markdown",
      "source": [
        "Now let's check Functional Neural Network, which acts as a graph"
      ],
      "metadata": {
        "id": "6RKnX5IYCvA7"
      }
    },
    {
      "cell_type": "code",
      "source": [
        "from tensorflow.keras import Model\n",
        "from tensorflow.keras.layers import Concatenate, Input"
      ],
      "metadata": {
        "id": "dT_6TIVe_4Nd"
      },
      "execution_count": 20,
      "outputs": []
    },
    {
      "cell_type": "code",
      "source": [
        "input = Input(shape = [784,])\n",
        "hidden_layer_1 = Dense(256, activation = 'relu')(input) # passing the input\n",
        "hidden_layer_2 = Dense(256, activation = 'relu')(hidden_layer_1)\n",
        "hidden_layer_3 = Dense(256, activation = 'relu')(input)\n",
        "concat_layer = Concatenate()([hidden_layer_2, hidden_layer_3])\n",
        "output_layer = Dense(10, activation = 'softmax')(concat_layer)\n",
        "\n",
        "model = Model(inputs = [input], outputs = [output_layer])\n",
        "model.summary()"
      ],
      "metadata": {
        "colab": {
          "base_uri": "https://localhost:8080/"
        },
        "id": "xG1dx1j8AOns",
        "outputId": "bc87d3da-cda2-4d53-d62f-a401c145864e"
      },
      "execution_count": 21,
      "outputs": [
        {
          "output_type": "stream",
          "name": "stdout",
          "text": [
            "Model: \"model\"\n",
            "__________________________________________________________________________________________________\n",
            " Layer (type)                   Output Shape         Param #     Connected to                     \n",
            "==================================================================================================\n",
            " input_1 (InputLayer)           [(None, 784)]        0           []                               \n",
            "                                                                                                  \n",
            " dense_3 (Dense)                (None, 256)          200960      ['input_1[0][0]']                \n",
            "                                                                                                  \n",
            " dense_4 (Dense)                (None, 256)          65792       ['dense_3[0][0]']                \n",
            "                                                                                                  \n",
            " dense_5 (Dense)                (None, 256)          200960      ['input_1[0][0]']                \n",
            "                                                                                                  \n",
            " concatenate (Concatenate)      (None, 512)          0           ['dense_4[0][0]',                \n",
            "                                                                  'dense_5[0][0]']                \n",
            "                                                                                                  \n",
            " dense_6 (Dense)                (None, 10)           5130        ['concatenate[0][0]']            \n",
            "                                                                                                  \n",
            "==================================================================================================\n",
            "Total params: 472,842\n",
            "Trainable params: 472,842\n",
            "Non-trainable params: 0\n",
            "__________________________________________________________________________________________________\n"
          ]
        }
      ]
    },
    {
      "cell_type": "code",
      "source": [
        "model.compile(optimizer = 'adam', loss = 'categorical_crossentropy', metrics = ['accuracy'])\n",
        "model.fit(x_train, y_train, epochs = 10, batch_size = 1000)"
      ],
      "metadata": {
        "colab": {
          "base_uri": "https://localhost:8080/"
        },
        "id": "A0oTZV5dC-eJ",
        "outputId": "8e9c6d76-ae86-4c28-c50a-de617d2a4efd"
      },
      "execution_count": 22,
      "outputs": [
        {
          "output_type": "stream",
          "name": "stdout",
          "text": [
            "Epoch 1/10\n",
            "60/60 [==============================] - 3s 44ms/step - loss: 0.5082 - accuracy: 0.8659\n",
            "Epoch 2/10\n",
            "60/60 [==============================] - 3s 53ms/step - loss: 0.1868 - accuracy: 0.9459\n",
            "Epoch 3/10\n",
            "60/60 [==============================] - 3s 44ms/step - loss: 0.1290 - accuracy: 0.9632\n",
            "Epoch 4/10\n",
            "60/60 [==============================] - 3s 44ms/step - loss: 0.0970 - accuracy: 0.9718\n",
            "Epoch 5/10\n",
            "60/60 [==============================] - 3s 44ms/step - loss: 0.0741 - accuracy: 0.9782\n",
            "Epoch 6/10\n",
            "60/60 [==============================] - 3s 44ms/step - loss: 0.0604 - accuracy: 0.9825\n",
            "Epoch 7/10\n",
            "60/60 [==============================] - 3s 45ms/step - loss: 0.0479 - accuracy: 0.9862\n",
            "Epoch 8/10\n",
            "60/60 [==============================] - 3s 45ms/step - loss: 0.0384 - accuracy: 0.9889\n",
            "Epoch 9/10\n",
            "60/60 [==============================] - 3s 44ms/step - loss: 0.0320 - accuracy: 0.9912\n",
            "Epoch 10/10\n",
            "60/60 [==============================] - 3s 44ms/step - loss: 0.0269 - accuracy: 0.9930\n"
          ]
        },
        {
          "output_type": "execute_result",
          "data": {
            "text/plain": [
              "<keras.callbacks.History at 0x7f1f1a26e090>"
            ]
          },
          "metadata": {},
          "execution_count": 22
        }
      ]
    },
    {
      "cell_type": "code",
      "source": [
        "model.evaluate(x_test, y_test)"
      ],
      "metadata": {
        "colab": {
          "base_uri": "https://localhost:8080/"
        },
        "id": "R1JlGrlgDSWE",
        "outputId": "29f02439-4a20-4cf4-a38b-91cd3d990c02"
      },
      "execution_count": 23,
      "outputs": [
        {
          "output_type": "stream",
          "name": "stdout",
          "text": [
            "313/313 [==============================] - 1s 2ms/step - loss: 0.0661 - accuracy: 0.9786\n"
          ]
        },
        {
          "output_type": "execute_result",
          "data": {
            "text/plain": [
              "[0.0661235973238945, 0.978600025177002]"
            ]
          },
          "metadata": {},
          "execution_count": 23
        }
      ]
    },
    {
      "cell_type": "code",
      "source": [
        "from tensorflow.keras import layers"
      ],
      "metadata": {
        "id": "u7Pun37Xu4_H"
      },
      "execution_count": 24,
      "outputs": []
    },
    {
      "cell_type": "code",
      "source": [
        "class MyLayer(layers.Layer) : # inheriting from class layers.Layer\n",
        "\n",
        "  def __init__(self, units, input_dim, activation) : # constructor function with layer params\n",
        "    super(MyLayer, self).__init__()\n",
        "    w_init = tf.random_normal_initializer() # initialising weights\n",
        "    b_init = tf.random_normal_initializer() # initialising biases\n",
        "    # trainable params can be stored in variable, thus...\n",
        "    self.w = tf.Variable(initial_value = w_init(shape = (input_dim, units), dtype = 'float32'), trainable = True)\n",
        "    self.b = tf.Variable(initial_value = b_init(shape = (units,), dtype = 'float32'), trainable = True)\n",
        "    self.activation = activation # assigning the activation function\n",
        "\n",
        "  def call(self, inputs) : # forward propagation\n",
        "    linear_op = tf.add(tf.matmul(inputs, self.w), self.b)\n",
        "    if self.activation == 'relu' :\n",
        "      return tf.nn.relu(linear_op)\n",
        "    elif self.activation == 'softmax' :\n",
        "      return tf.nn.softmax(linear_op)"
      ],
      "metadata": {
        "id": "tmsra8AEu84t"
      },
      "execution_count": 25,
      "outputs": []
    },
    {
      "cell_type": "code",
      "source": [
        "class MyModel(tf.keras.Model) : # MyModel is a subclass of tf.keras.Model\n",
        "\n",
        "  def __init__(self, n_input, n_hidden_1, n_hidden_2, n_classes) :\n",
        "    super(MyModel, self).__init__()\n",
        "    self.layer1 = MyLayer(n_hidden_1, n_input, 'relu') # 1st hidden layer\n",
        "    self.layer2 = MyLayer(n_hidden_2, n_hidden_1, 'relu') # 2nd hidden layer\n",
        "    self.out_layer = MyLayer(n_classes, n_hidden_2, 'softmax') # output layer\n",
        "\n",
        "  def call(self, inputs) :\n",
        "      output_from_layer_1 = self.layer1(inputs)\n",
        "      output_from_layer_2 = self.layer2(output_from_layer_1)\n",
        "      return self.out_layer(output_from_layer_2) # output layer"
      ],
      "metadata": {
        "id": "cGlWOoZYyUNJ"
      },
      "execution_count": 26,
      "outputs": []
    },
    {
      "cell_type": "code",
      "source": [
        "model = MyModel(784, 256, 256, 10) # model created"
      ],
      "metadata": {
        "id": "G8dAJJ671ATz"
      },
      "execution_count": 27,
      "outputs": []
    },
    {
      "cell_type": "code",
      "source": [
        "model.compile(optimizer = 'adam', loss = 'categorical_crossentropy', metrics = ['accuracy'])"
      ],
      "metadata": {
        "id": "J6jCR3iP1bs7"
      },
      "execution_count": 28,
      "outputs": []
    },
    {
      "cell_type": "code",
      "source": [
        "model.fit(x_train, y_train, epochs = 20, batch_size = 500)"
      ],
      "metadata": {
        "colab": {
          "base_uri": "https://localhost:8080/"
        },
        "id": "mYTiEAt010Cq",
        "outputId": "ee285e40-dc59-4de7-94aa-2087702248ce"
      },
      "execution_count": 31,
      "outputs": [
        {
          "output_type": "stream",
          "name": "stdout",
          "text": [
            "Epoch 1/20\n",
            "120/120 [==============================] - 3s 27ms/step - loss: 0.0193 - accuracy: 0.9948\n",
            "Epoch 2/20\n",
            "120/120 [==============================] - 3s 22ms/step - loss: 0.0165 - accuracy: 0.9956\n",
            "Epoch 3/20\n",
            "120/120 [==============================] - 2s 16ms/step - loss: 0.0133 - accuracy: 0.9966\n",
            "Epoch 4/20\n",
            "120/120 [==============================] - 2s 16ms/step - loss: 0.0111 - accuracy: 0.9973\n",
            "Epoch 5/20\n",
            "120/120 [==============================] - 2s 17ms/step - loss: 0.0088 - accuracy: 0.9979\n",
            "Epoch 6/20\n",
            "120/120 [==============================] - 2s 16ms/step - loss: 0.0075 - accuracy: 0.9984\n",
            "Epoch 7/20\n",
            "120/120 [==============================] - 2s 16ms/step - loss: 0.0060 - accuracy: 0.9987\n",
            "Epoch 8/20\n",
            "120/120 [==============================] - 2s 16ms/step - loss: 0.0064 - accuracy: 0.9983\n",
            "Epoch 9/20\n",
            "120/120 [==============================] - 2s 16ms/step - loss: 0.0048 - accuracy: 0.9990\n",
            "Epoch 10/20\n",
            "120/120 [==============================] - 2s 16ms/step - loss: 0.0028 - accuracy: 0.9997\n",
            "Epoch 11/20\n",
            "120/120 [==============================] - 2s 16ms/step - loss: 0.0021 - accuracy: 0.9998\n",
            "Epoch 12/20\n",
            "120/120 [==============================] - 2s 16ms/step - loss: 0.0015 - accuracy: 0.9999\n",
            "Epoch 13/20\n",
            "120/120 [==============================] - 2s 16ms/step - loss: 0.0010 - accuracy: 1.0000\n",
            "Epoch 14/20\n",
            "120/120 [==============================] - 2s 16ms/step - loss: 8.6566e-04 - accuracy: 1.0000\n",
            "Epoch 15/20\n",
            "120/120 [==============================] - 2s 16ms/step - loss: 7.5928e-04 - accuracy: 1.0000\n",
            "Epoch 16/20\n",
            "120/120 [==============================] - 2s 16ms/step - loss: 5.3423e-04 - accuracy: 1.0000\n",
            "Epoch 17/20\n",
            "120/120 [==============================] - 2s 16ms/step - loss: 4.6452e-04 - accuracy: 1.0000\n",
            "Epoch 18/20\n",
            "120/120 [==============================] - 2s 16ms/step - loss: 4.5864e-04 - accuracy: 1.0000\n",
            "Epoch 19/20\n",
            "120/120 [==============================] - 2s 16ms/step - loss: 3.7516e-04 - accuracy: 1.0000\n",
            "Epoch 20/20\n",
            "120/120 [==============================] - 2s 16ms/step - loss: 3.3976e-04 - accuracy: 1.0000\n"
          ]
        },
        {
          "output_type": "execute_result",
          "data": {
            "text/plain": [
              "<keras.callbacks.History at 0x7f1fa495f690>"
            ]
          },
          "metadata": {},
          "execution_count": 31
        }
      ]
    },
    {
      "cell_type": "code",
      "source": [
        "model.evaluate(x_test, y_test)"
      ],
      "metadata": {
        "colab": {
          "base_uri": "https://localhost:8080/"
        },
        "id": "C_TmZ26U2CKd",
        "outputId": "f44b7c96-637e-4de2-81bb-bbd1a290a801"
      },
      "execution_count": 32,
      "outputs": [
        {
          "output_type": "stream",
          "name": "stdout",
          "text": [
            "313/313 [==============================] - 1s 2ms/step - loss: 0.0840 - accuracy: 0.9818\n"
          ]
        },
        {
          "output_type": "execute_result",
          "data": {
            "text/plain": [
              "[0.08399809151887894, 0.9818000197410583]"
            ]
          },
          "metadata": {},
          "execution_count": 32
        }
      ]
    }
  ]
}