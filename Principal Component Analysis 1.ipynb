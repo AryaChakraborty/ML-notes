{
 "cells": [
  {
   "cell_type": "code",
   "execution_count": 1,
   "id": "6c51286a",
   "metadata": {},
   "outputs": [],
   "source": [
    "import numpy as np\n",
    "import matplotlib.pyplot as plt\n",
    "from sklearn.decomposition import PCA"
   ]
  },
  {
   "cell_type": "code",
   "execution_count": 2,
   "id": "506cc0b3",
   "metadata": {},
   "outputs": [],
   "source": [
    "x1 = np.array([1, 2, 3, 4, 5, 6])\n",
    "x2 = np.array([7.5, 11, 16, 18, 20, 26])"
   ]
  },
  {
   "cell_type": "code",
   "execution_count": 3,
   "id": "cd5fab35",
   "metadata": {},
   "outputs": [
    {
     "data": {
      "image/png": "[encoded data removed]",
      "text/plain": [
       "<Figure size 432x288 with 1 Axes>"
      ]
     },
     "metadata": {
      "needs_background": "light"
     },
     "output_type": "display_data"
    }
   ],
   "source": [
    "plt.scatter(x1, x2)\n",
    "plt.show()"
   ]
  },
  {
   "cell_type": "code",
   "execution_count": 7,
   "id": "3a3b5062",
   "metadata": {},
   "outputs": [
    {
     "data": {
      "text/plain": [
       "array([[ 1. ,  7.5],\n",
       "       [ 2. , 11. ],\n",
       "       [ 3. , 16. ],\n",
       "       [ 4. , 18. ],\n",
       "       [ 5. , 20. ],\n",
       "       [ 6. , 26. ]])"
      ]
     },
     "execution_count": 7,
     "metadata": {},
     "output_type": "execute_result"
    }
   ],
   "source": [
    "X = np.c_[x1, x2]\n",
    "X"
   ]
  },
  {
   "cell_type": "code",
   "execution_count": 8,
   "id": "3874438d",
   "metadata": {},
   "outputs": [
    {
     "data": {
      "text/plain": [
       "array([[-9.26049952e+00,  9.65263430e-03],\n",
       "       [-5.62047228e+00,  2.38560598e-02],\n",
       "       [-5.36562171e-01, -3.68391297e-01],\n",
       "       [ 1.65958219e+00,  5.22629108e-02],\n",
       "       [ 3.85572654e+00,  4.72917119e-01],\n",
       "       [ 9.90222524e+00, -1.90297426e-01]])"
      ]
     },
     "execution_count": 8,
     "metadata": {},
     "output_type": "execute_result"
    }
   ],
   "source": [
    "pca = PCA()\n",
    "X_transformed = pca.fit_transform(X)\n",
    "X_transformed"
   ]
  },
  {
   "cell_type": "code",
   "execution_count": 9,
   "id": "c7cdf891",
   "metadata": {},
   "outputs": [
    {
     "data": {
      "text/plain": [
       "array([[ 0.27096719,  0.96258858],\n",
       "       [ 0.96258858, -0.27096719]])"
      ]
     },
     "execution_count": 9,
     "metadata": {},
     "output_type": "execute_result"
    }
   ],
   "source": [
    "pca.components_"
   ]
  },
  {
   "cell_type": "markdown",
   "id": "2dbfd390",
   "metadata": {},
   "source": [
    "the above 2 results show the unit vector of one vs the other(perpendicular) direction"
   ]
  },
  {
   "cell_type": "code",
   "execution_count": 10,
   "id": "0c6e3be7",
   "metadata": {},
   "outputs": [
    {
     "data": {
      "text/plain": [
       "array([[-9.26049952],\n",
       "       [-5.62047228],\n",
       "       [-0.53656217],\n",
       "       [ 1.65958219],\n",
       "       [ 3.85572654],\n",
       "       [ 9.90222524]])"
      ]
     },
     "execution_count": 10,
     "metadata": {},
     "output_type": "execute_result"
    }
   ],
   "source": [
    "pca = PCA(n_components = 1)\n",
    "X_transformed = pca.fit_transform(X)\n",
    "X_transformed"
   ]
  },
  {
   "cell_type": "code",
   "execution_count": 11,
   "id": "2f58b69f",
   "metadata": {},
   "outputs": [
    {
     "data": {
      "text/plain": [
       "array([[0.27096719, 0.96258858]])"
      ]
     },
     "execution_count": 11,
     "metadata": {},
     "output_type": "execute_result"
    }
   ],
   "source": [
    "pca.components_"
   ]
  },
  {
   "cell_type": "code",
   "execution_count": 15,
   "id": "f97f1592",
   "metadata": {},
   "outputs": [
    {
     "data": {
      "text/plain": [
       "array([[ 0.99070848,  7.50261555],\n",
       "       [ 1.97703643, 11.00646421],\n",
       "       [ 3.35460926, 15.90017805],\n",
       "       [ 3.94969232, 18.01416153],\n",
       "       [ 4.54477538, 20.12814502],\n",
       "       [ 6.18317813, 25.94843564]])"
      ]
     },
     "execution_count": 15,
     "metadata": {},
     "output_type": "execute_result"
    }
   ],
   "source": [
    "X_approx = pca.inverse_transform(X_transformed)\n",
    "X_approx"
   ]
  },
  {
   "cell_type": "code",
   "execution_count": 16,
   "id": "c24894a8",
   "metadata": {},
   "outputs": [
    {
     "data": {
      "image/png": "[encoded data removed]",
      "text/plain": [
       "<Figure size 432x288 with 1 Axes>"
      ]
     },
     "metadata": {
      "needs_background": "light"
     },
     "output_type": "display_data"
    }
   ],
   "source": [
    "plt.scatter(X_approx[:, 0], X_approx[:, 1])\n",
    "plt.show()"
   ]
  },
  {
   "cell_type": "markdown",
   "id": "9f8fa1e1",
   "metadata": {},
   "source": [
    "the points actually lie on a line"
   ]
  },
  {
   "cell_type": "code",
   "execution_count": 17,
   "id": "4816e9ee",
   "metadata": {},
   "outputs": [
    {
     "data": {
      "image/png": "[encoded data removed]",
      "text/plain": [
       "<Figure size 432x288 with 1 Axes>"
      ]
     },
     "metadata": {
      "needs_background": "light"
     },
     "output_type": "display_data"
    }
   ],
   "source": [
    "plt.plot(X_approx[:, 0], X_approx[:, 1])\n",
    "plt.show()"
   ]
  }
 ],
 "metadata": {
  "kernelspec": {
   "display_name": "Python 3 (ipykernel)",
   "language": "python",
   "name": "python3"
  },
  "language_info": {
   "codemirror_mode": {
    "name": "ipython",
    "version": 3
   },
   "file_extension": ".py",
   "mimetype": "text/x-python",
   "name": "python",
   "nbconvert_exporter": "python",
   "pygments_lexer": "ipython3",
   "version": "3.9.7"
  }
 },
 "nbformat": 4,
 "nbformat_minor": 5
}
