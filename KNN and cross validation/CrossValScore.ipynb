{
 "cells": [
  {
   "cell_type": "code",
   "execution_count": 1,
   "id": "47a94d39",
   "metadata": {},
   "outputs": [],
   "source": [
    "import numpy as np\n",
    "from sklearn import datasets\n",
    "from sklearn.model_selection import cross_val_score\n",
    "from sklearn.model_selection import KFold\n",
    "from sklearn.linear_model import LinearRegression\n",
    "from sklearn.model_selection import train_test_split"
   ]
  },
  {
   "cell_type": "code",
   "execution_count": 2,
   "id": "48c97653",
   "metadata": {},
   "outputs": [],
   "source": [
    "iris = datasets.load_iris()\n",
    "x_train, x_test, y_train, y_test = train_test_split(iris.data, iris.target, test_size = 0.25)"
   ]
  },
  {
   "cell_type": "code",
   "execution_count": 3,
   "id": "22ad2c48",
   "metadata": {},
   "outputs": [
    {
     "data": {
      "text/plain": [
       "array([0.92323541, 0.90422204, 0.86926016])"
      ]
     },
     "execution_count": 3,
     "metadata": {},
     "output_type": "execute_result"
    }
   ],
   "source": [
    "# we are using Linear regression\n",
    "clf = LinearRegression()\n",
    "cross_val_score(clf, x_train, y_train, cv = KFold(n_splits = 3, shuffle = True, random_state = None))"
   ]
  },
  {
   "cell_type": "code",
   "execution_count": 4,
   "id": "58ed3aae",
   "metadata": {},
   "outputs": [
    {
     "data": {
      "text/plain": [
       "array([0., 0., 0.])"
      ]
     },
     "execution_count": 4,
     "metadata": {},
     "output_type": "execute_result"
    }
   ],
   "source": [
    "clf = LinearRegression()\n",
    "cross_val_score(clf, iris.data, iris.target, cv = KFold(n_splits = 3, shuffle = False, random_state = None))\n",
    "# no checking data"
   ]
  },
  {
   "cell_type": "code",
   "execution_count": 5,
   "id": "de5aa364",
   "metadata": {},
   "outputs": [
    {
     "data": {
      "text/plain": [
       "array([0.9131146 , 0.94334799, 0.91720235])"
      ]
     },
     "execution_count": 5,
     "metadata": {},
     "output_type": "execute_result"
    }
   ],
   "source": [
    "clf = LinearRegression()\n",
    "cross_val_score(clf, iris.data, iris.target, cv = KFold(n_splits = 3, shuffle = True, random_state = None))"
   ]
  }
 ],
 "metadata": {
  "kernelspec": {
   "display_name": "Python 3 (ipykernel)",
   "language": "python",
   "name": "python3"
  },
  "language_info": {
   "codemirror_mode": {
    "name": "ipython",
    "version": 3
   },
   "file_extension": ".py",
   "mimetype": "text/x-python",
   "name": "python",
   "nbconvert_exporter": "python",
   "pygments_lexer": "ipython3",
   "version": "3.9.7"
  }
 },
 "nbformat": 4,
 "nbformat_minor": 5
}
