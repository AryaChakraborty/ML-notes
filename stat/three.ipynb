{
 "cells": [
  {
   "cell_type": "code",
   "execution_count": 1,
   "id": "3a71069c",
   "metadata": {},
   "outputs": [],
   "source": [
    "import numpy as np\n",
    "import pandas as pd\n",
    "import seaborn as sns\n",
    "import matplotlib.pyplot as plt"
   ]
  },
  {
   "cell_type": "code",
   "execution_count": 2,
   "id": "ee081924",
   "metadata": {},
   "outputs": [],
   "source": [
    "plt.style.use('fivethirtyeight')"
   ]
  },
  {
   "cell_type": "code",
   "execution_count": 3,
   "id": "e5c04cbd",
   "metadata": {},
   "outputs": [],
   "source": [
    "from sklearn.datasets import load_iris\n",
    "iris = load_iris()\n",
    "data = pd.DataFrame(data= np.c_[iris['data'], iris['target']],\n",
    "                     columns= iris['feature_names'] + ['target'])"
   ]
  },
  {
   "cell_type": "code",
   "execution_count": 4,
   "id": "b875645a",
   "metadata": {
    "scrolled": false
   },
   "outputs": [
    {
     "data": {
      "text/html": [
       "<div>\n",
       "<style scoped>\n",
       "    .dataframe tbody tr th:only-of-type {\n",
       "        vertical-align: middle;\n",
       "    }\n",
       "\n",
       "    .dataframe tbody tr th {\n",
       "        vertical-align: top;\n",
       "    }\n",
       "\n",
       "    .dataframe thead th {\n",
       "        text-align: right;\n",
       "    }\n",
       "</style>\n",
       "<table border=\"1\" class=\"dataframe\">\n",
       "  <thead>\n",
       "    <tr style=\"text-align: right;\">\n",
       "      <th></th>\n",
       "      <th>SL</th>\n",
       "      <th>SW</th>\n",
       "      <th>PL</th>\n",
       "      <th>PW</th>\n",
       "      <th>target</th>\n",
       "    </tr>\n",
       "  </thead>\n",
       "  <tbody>\n",
       "    <tr>\n",
       "      <th>0</th>\n",
       "      <td>5.1</td>\n",
       "      <td>3.5</td>\n",
       "      <td>1.4</td>\n",
       "      <td>0.2</td>\n",
       "      <td>0.0</td>\n",
       "    </tr>\n",
       "    <tr>\n",
       "      <th>1</th>\n",
       "      <td>4.9</td>\n",
       "      <td>3.0</td>\n",
       "      <td>1.4</td>\n",
       "      <td>0.2</td>\n",
       "      <td>0.0</td>\n",
       "    </tr>\n",
       "    <tr>\n",
       "      <th>2</th>\n",
       "      <td>4.7</td>\n",
       "      <td>3.2</td>\n",
       "      <td>1.3</td>\n",
       "      <td>0.2</td>\n",
       "      <td>0.0</td>\n",
       "    </tr>\n",
       "    <tr>\n",
       "      <th>3</th>\n",
       "      <td>4.6</td>\n",
       "      <td>3.1</td>\n",
       "      <td>1.5</td>\n",
       "      <td>0.2</td>\n",
       "      <td>0.0</td>\n",
       "    </tr>\n",
       "    <tr>\n",
       "      <th>4</th>\n",
       "      <td>5.0</td>\n",
       "      <td>3.6</td>\n",
       "      <td>1.4</td>\n",
       "      <td>0.2</td>\n",
       "      <td>0.0</td>\n",
       "    </tr>\n",
       "    <tr>\n",
       "      <th>...</th>\n",
       "      <td>...</td>\n",
       "      <td>...</td>\n",
       "      <td>...</td>\n",
       "      <td>...</td>\n",
       "      <td>...</td>\n",
       "    </tr>\n",
       "    <tr>\n",
       "      <th>145</th>\n",
       "      <td>6.7</td>\n",
       "      <td>3.0</td>\n",
       "      <td>5.2</td>\n",
       "      <td>2.3</td>\n",
       "      <td>2.0</td>\n",
       "    </tr>\n",
       "    <tr>\n",
       "      <th>146</th>\n",
       "      <td>6.3</td>\n",
       "      <td>2.5</td>\n",
       "      <td>5.0</td>\n",
       "      <td>1.9</td>\n",
       "      <td>2.0</td>\n",
       "    </tr>\n",
       "    <tr>\n",
       "      <th>147</th>\n",
       "      <td>6.5</td>\n",
       "      <td>3.0</td>\n",
       "      <td>5.2</td>\n",
       "      <td>2.0</td>\n",
       "      <td>2.0</td>\n",
       "    </tr>\n",
       "    <tr>\n",
       "      <th>148</th>\n",
       "      <td>6.2</td>\n",
       "      <td>3.4</td>\n",
       "      <td>5.4</td>\n",
       "      <td>2.3</td>\n",
       "      <td>2.0</td>\n",
       "    </tr>\n",
       "    <tr>\n",
       "      <th>149</th>\n",
       "      <td>5.9</td>\n",
       "      <td>3.0</td>\n",
       "      <td>5.1</td>\n",
       "      <td>1.8</td>\n",
       "      <td>2.0</td>\n",
       "    </tr>\n",
       "  </tbody>\n",
       "</table>\n",
       "<p>150 rows × 5 columns</p>\n",
       "</div>"
      ],
      "text/plain": [
       "      SL   SW   PL   PW  target\n",
       "0    5.1  3.5  1.4  0.2     0.0\n",
       "1    4.9  3.0  1.4  0.2     0.0\n",
       "2    4.7  3.2  1.3  0.2     0.0\n",
       "3    4.6  3.1  1.5  0.2     0.0\n",
       "4    5.0  3.6  1.4  0.2     0.0\n",
       "..   ...  ...  ...  ...     ...\n",
       "145  6.7  3.0  5.2  2.3     2.0\n",
       "146  6.3  2.5  5.0  1.9     2.0\n",
       "147  6.5  3.0  5.2  2.0     2.0\n",
       "148  6.2  3.4  5.4  2.3     2.0\n",
       "149  5.9  3.0  5.1  1.8     2.0\n",
       "\n",
       "[150 rows x 5 columns]"
      ]
     },
     "execution_count": 4,
     "metadata": {},
     "output_type": "execute_result"
    }
   ],
   "source": [
    "data = data.rename(columns = {'sepal length (cm)' : 'SL', 'sepal width (cm)' : 'SW', 'petal width (cm)' : 'PW', 'petal length (cm)' : 'PL'})\n",
    "data"
   ]
  },
  {
   "cell_type": "code",
   "execution_count": 5,
   "id": "acf85047",
   "metadata": {},
   "outputs": [],
   "source": [
    "iris_setosa = data[data['target'] == 0.0]\n",
    "iris_virginica = data[data['target'] == 1.0]\n",
    "iris_versicolor = data[data['target'] == 2.0]"
   ]
  },
  {
   "cell_type": "markdown",
   "id": "e3ccab20",
   "metadata": {},
   "source": [
    "### spread of data"
   ]
  },
  {
   "cell_type": "markdown",
   "id": "ca1ea4a3",
   "metadata": {},
   "source": [
    "#### range"
   ]
  },
  {
   "cell_type": "code",
   "execution_count": 6,
   "id": "d4e91ea5",
   "metadata": {},
   "outputs": [],
   "source": [
    "# max - min observation"
   ]
  },
  {
   "cell_type": "code",
   "execution_count": 7,
   "id": "f33c8d66",
   "metadata": {},
   "outputs": [
    {
     "data": {
      "text/plain": [
       "0.8999999999999999"
      ]
     },
     "execution_count": 7,
     "metadata": {},
     "output_type": "execute_result"
    }
   ],
   "source": [
    "range_iris_setosa_pl = max(iris_setosa['PL']) - min(iris_setosa['PL'])\n",
    "range_iris_setosa_pl"
   ]
  },
  {
   "cell_type": "markdown",
   "id": "248f9361",
   "metadata": {},
   "source": [
    "#### percentile"
   ]
  },
  {
   "cell_type": "code",
   "execution_count": 8,
   "id": "022dc1d0",
   "metadata": {},
   "outputs": [],
   "source": [
    "# np.percentile(_list_, x) ----> x %ile"
   ]
  },
  {
   "cell_type": "markdown",
   "id": "390f14bd",
   "metadata": {},
   "source": [
    "quartiles"
   ]
  },
  {
   "cell_type": "code",
   "execution_count": 9,
   "id": "67b2e447",
   "metadata": {},
   "outputs": [],
   "source": [
    "# np.percentile(_list_, 25)\n",
    "# np.percentile(_list_, 50)\n",
    "# np.percentile(_list_, 75)\n",
    "# np.percentile(_list_, 100)"
   ]
  },
  {
   "cell_type": "code",
   "execution_count": 10,
   "id": "c37d6c2e",
   "metadata": {},
   "outputs": [],
   "source": [
    "# inter-quartile range :\n",
    "# np.percentile(_list_, 75) - np.percentile(_list_, 25)"
   ]
  },
  {
   "cell_type": "markdown",
   "id": "484dad21",
   "metadata": {},
   "source": [
    "### variance"
   ]
  },
  {
   "cell_type": "code",
   "execution_count": 11,
   "id": "7823643e",
   "metadata": {},
   "outputs": [],
   "source": [
    "# np.var(_list_)"
   ]
  },
  {
   "cell_type": "markdown",
   "id": "620b364e",
   "metadata": {},
   "source": [
    "### std. deviation"
   ]
  },
  {
   "cell_type": "code",
   "execution_count": 12,
   "id": "4b256a90",
   "metadata": {},
   "outputs": [],
   "source": [
    "# sqrt(variance)"
   ]
  },
  {
   "cell_type": "code",
   "execution_count": 13,
   "id": "25e76a23",
   "metadata": {},
   "outputs": [],
   "source": [
    "# np.std(_list_)"
   ]
  }
 ],
 "metadata": {
  "kernelspec": {
   "display_name": "Python 3 (ipykernel)",
   "language": "python",
   "name": "python3"
  },
  "language_info": {
   "codemirror_mode": {
    "name": "ipython",
    "version": 3
   },
   "file_extension": ".py",
   "mimetype": "text/x-python",
   "name": "python",
   "nbconvert_exporter": "python",
   "pygments_lexer": "ipython3",
   "version": "3.9.7"
  }
 },
 "nbformat": 4,
 "nbformat_minor": 5
}
