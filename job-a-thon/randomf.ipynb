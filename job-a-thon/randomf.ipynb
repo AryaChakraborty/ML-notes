{
 "cells": [
  {
   "cell_type": "code",
   "execution_count": 1,
   "id": "7c7ee1a0",
   "metadata": {},
   "outputs": [],
   "source": [
    "import pandas as pd\n",
    "import numpy as np\n",
    "import matplotlib.pyplot as plt\n",
    "import seaborn as sns"
   ]
  },
  {
   "cell_type": "code",
   "execution_count": 2,
   "id": "4ec367a5",
   "metadata": {},
   "outputs": [],
   "source": [
    "data = pd.read_csv('train_wn75k28.csv')"
   ]
  },
  {
   "cell_type": "code",
   "execution_count": 3,
   "id": "3b565b3a",
   "metadata": {},
   "outputs": [],
   "source": [
    "data = data.drop(['products_purchased'], axis = 1)"
   ]
  },
  {
   "cell_type": "code",
   "execution_count": 4,
   "id": "3b8d63dd",
   "metadata": {},
   "outputs": [],
   "source": [
    "x_train = data.iloc[:, [2, 3, 5, 6, 7, 8, 9, 10, 11, 12, 13, 14, 15, 16]].values\n",
    "y_train = data.iloc[:, 17].values"
   ]
  },
  {
   "cell_type": "code",
   "execution_count": 5,
   "id": "905750ea",
   "metadata": {},
   "outputs": [
    {
     "data": {
      "text/plain": [
       "RandomForestClassifier()"
      ]
     },
     "execution_count": 5,
     "metadata": {},
     "output_type": "execute_result"
    }
   ],
   "source": [
    "from sklearn.ensemble import RandomForestClassifier\n",
    "clf=RandomForestClassifier(n_estimators=100)\n",
    "clf.fit(x_train,y_train)"
   ]
  },
  {
   "cell_type": "code",
   "execution_count": 6,
   "id": "85f3ca6a",
   "metadata": {},
   "outputs": [],
   "source": [
    "data_test = pd.read_csv('test_Wf7sxXF.csv')"
   ]
  },
  {
   "cell_type": "code",
   "execution_count": 7,
   "id": "b95dd910",
   "metadata": {},
   "outputs": [],
   "source": [
    "data_test = data_test.drop(['products_purchased'], axis = 1)"
   ]
  },
  {
   "cell_type": "code",
   "execution_count": 8,
   "id": "88c9e50e",
   "metadata": {},
   "outputs": [],
   "source": [
    "x_test = data_test.iloc[:, [2, 3, 5, 6, 7, 8, 9, 10, 11, 12, 13, 14, 15, 16]].values"
   ]
  },
  {
   "cell_type": "code",
   "execution_count": 9,
   "id": "505820d0",
   "metadata": {},
   "outputs": [],
   "source": [
    "y_pred=clf.predict(x_test)"
   ]
  },
  {
   "cell_type": "code",
   "execution_count": 11,
   "id": "1c04d7a6",
   "metadata": {},
   "outputs": [],
   "source": [
    "y_pred = list(y_pred)"
   ]
  },
  {
   "cell_type": "code",
   "execution_count": 12,
   "id": "c2a28534",
   "metadata": {},
   "outputs": [
    {
     "data": {
      "text/html": [
       "<div>\n",
       "<style scoped>\n",
       "    .dataframe tbody tr th:only-of-type {\n",
       "        vertical-align: middle;\n",
       "    }\n",
       "\n",
       "    .dataframe tbody tr th {\n",
       "        vertical-align: top;\n",
       "    }\n",
       "\n",
       "    .dataframe thead th {\n",
       "        text-align: right;\n",
       "    }\n",
       "</style>\n",
       "<table border=\"1\" class=\"dataframe\">\n",
       "  <thead>\n",
       "    <tr style=\"text-align: right;\">\n",
       "      <th></th>\n",
       "      <th>id</th>\n",
       "      <th>buy</th>\n",
       "    </tr>\n",
       "  </thead>\n",
       "  <tbody>\n",
       "    <tr>\n",
       "      <th>0</th>\n",
       "      <td>39162</td>\n",
       "      <td>1</td>\n",
       "    </tr>\n",
       "    <tr>\n",
       "      <th>1</th>\n",
       "      <td>39163</td>\n",
       "      <td>0</td>\n",
       "    </tr>\n",
       "    <tr>\n",
       "      <th>2</th>\n",
       "      <td>39164</td>\n",
       "      <td>0</td>\n",
       "    </tr>\n",
       "    <tr>\n",
       "      <th>3</th>\n",
       "      <td>39165</td>\n",
       "      <td>1</td>\n",
       "    </tr>\n",
       "    <tr>\n",
       "      <th>4</th>\n",
       "      <td>39166</td>\n",
       "      <td>0</td>\n",
       "    </tr>\n",
       "    <tr>\n",
       "      <th>...</th>\n",
       "      <td>...</td>\n",
       "      <td>...</td>\n",
       "    </tr>\n",
       "    <tr>\n",
       "      <th>13179</th>\n",
       "      <td>52341</td>\n",
       "      <td>0</td>\n",
       "    </tr>\n",
       "    <tr>\n",
       "      <th>13180</th>\n",
       "      <td>52342</td>\n",
       "      <td>0</td>\n",
       "    </tr>\n",
       "    <tr>\n",
       "      <th>13181</th>\n",
       "      <td>52343</td>\n",
       "      <td>0</td>\n",
       "    </tr>\n",
       "    <tr>\n",
       "      <th>13182</th>\n",
       "      <td>52344</td>\n",
       "      <td>0</td>\n",
       "    </tr>\n",
       "    <tr>\n",
       "      <th>13183</th>\n",
       "      <td>52345</td>\n",
       "      <td>0</td>\n",
       "    </tr>\n",
       "  </tbody>\n",
       "</table>\n",
       "<p>13184 rows × 2 columns</p>\n",
       "</div>"
      ],
      "text/plain": [
       "          id  buy\n",
       "0      39162    1\n",
       "1      39163    0\n",
       "2      39164    0\n",
       "3      39165    1\n",
       "4      39166    0\n",
       "...      ...  ...\n",
       "13179  52341    0\n",
       "13180  52342    0\n",
       "13181  52343    0\n",
       "13182  52344    0\n",
       "13183  52345    0\n",
       "\n",
       "[13184 rows x 2 columns]"
      ]
     },
     "execution_count": 12,
     "metadata": {},
     "output_type": "execute_result"
    }
   ],
   "source": [
    "diction = {'id' : data_test['id'], 'buy' : y_pred}\n",
    "final_answer = pd.DataFrame(diction)\n",
    "final_answer"
   ]
  },
  {
   "cell_type": "code",
   "execution_count": 13,
   "id": "db50d523",
   "metadata": {},
   "outputs": [
    {
     "data": {
      "text/plain": [
       "0    12793\n",
       "1      391\n",
       "Name: buy, dtype: int64"
      ]
     },
     "execution_count": 13,
     "metadata": {},
     "output_type": "execute_result"
    }
   ],
   "source": [
    "final_answer['buy'].value_counts()"
   ]
  },
  {
   "cell_type": "code",
   "execution_count": 14,
   "id": "00781a24",
   "metadata": {},
   "outputs": [],
   "source": [
    "# final_answer.to_csv('randomf_final.csv', index=False)"
   ]
  }
 ],
 "metadata": {
  "kernelspec": {
   "display_name": "Python 3 (ipykernel)",
   "language": "python",
   "name": "python3"
  },
  "language_info": {
   "codemirror_mode": {
    "name": "ipython",
    "version": 3
   },
   "file_extension": ".py",
   "mimetype": "text/x-python",
   "name": "python",
   "nbconvert_exporter": "python",
   "pygments_lexer": "ipython3",
   "version": "3.9.7"
  }
 },
 "nbformat": 4,
 "nbformat_minor": 5
}
