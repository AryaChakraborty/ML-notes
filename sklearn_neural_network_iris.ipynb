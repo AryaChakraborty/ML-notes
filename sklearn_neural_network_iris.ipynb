{
 "cells": [
  {
   "cell_type": "code",
   "execution_count": 1,
   "id": "dd8a73b1",
   "metadata": {},
   "outputs": [],
   "source": [
    "from sklearn import datasets\n",
    "from sklearn.model_selection import train_test_split"
   ]
  },
  {
   "cell_type": "code",
   "execution_count": 2,
   "id": "70ec873b",
   "metadata": {},
   "outputs": [],
   "source": [
    "iris = datasets.load_iris()"
   ]
  },
  {
   "cell_type": "code",
   "execution_count": 3,
   "id": "8b74aad0",
   "metadata": {},
   "outputs": [],
   "source": [
    "x = iris.data\n",
    "y = iris.target"
   ]
  },
  {
   "cell_type": "code",
   "execution_count": 4,
   "id": "8ee0a229",
   "metadata": {},
   "outputs": [],
   "source": [
    "x_train, x_test, y_train, y_test = train_test_split(x, y, test_size = 0.25)"
   ]
  },
  {
   "cell_type": "code",
   "execution_count": 6,
   "id": "f4a6c0a8",
   "metadata": {},
   "outputs": [],
   "source": [
    "from sklearn.neural_network import MLPClassifier # multilayer perceptron"
   ]
  },
  {
   "cell_type": "code",
   "execution_count": 8,
   "id": "d3987e8f",
   "metadata": {},
   "outputs": [
    {
     "name": "stderr",
     "output_type": "stream",
     "text": [
      "C:\\Users\\aryac\\anaconda3\\lib\\site-packages\\sklearn\\neural_network\\_multilayer_perceptron.py:614: ConvergenceWarning: Stochastic Optimizer: Maximum iterations (200) reached and the optimization hasn't converged yet.\n",
      "  warnings.warn(\n"
     ]
    },
    {
     "data": {
      "text/plain": [
       "MLPClassifier()"
      ]
     },
     "execution_count": 8,
     "metadata": {},
     "output_type": "execute_result"
    }
   ],
   "source": [
    "classifier = MLPClassifier()\n",
    "classifier.fit(x_train, y_train)"
   ]
  },
  {
   "cell_type": "code",
   "execution_count": 9,
   "id": "a5d5f6c1",
   "metadata": {},
   "outputs": [
    {
     "data": {
      "text/plain": [
       "0.9736842105263158"
      ]
     },
     "execution_count": 9,
     "metadata": {},
     "output_type": "execute_result"
    }
   ],
   "source": [
    "classifier.score(x_test, y_test)"
   ]
  },
  {
   "cell_type": "code",
   "execution_count": 10,
   "id": "6558133b",
   "metadata": {},
   "outputs": [
    {
     "data": {
      "text/plain": [
       "MLPClassifier(hidden_layer_sizes=(20,), max_iter=1000)"
      ]
     },
     "execution_count": 10,
     "metadata": {},
     "output_type": "execute_result"
    }
   ],
   "source": [
    "classifier1 = MLPClassifier(hidden_layer_sizes = (20,), max_iter = 1000)\n",
    "classifier1.fit(x_train, y_train)"
   ]
  },
  {
   "cell_type": "code",
   "execution_count": 11,
   "id": "4abdd7f7",
   "metadata": {},
   "outputs": [
    {
     "data": {
      "text/plain": [
       "0.9736842105263158"
      ]
     },
     "execution_count": 11,
     "metadata": {},
     "output_type": "execute_result"
    }
   ],
   "source": [
    "classifier1.score(x_test, y_test)"
   ]
  },
  {
   "cell_type": "code",
   "execution_count": 12,
   "id": "0881162b",
   "metadata": {},
   "outputs": [
    {
     "data": {
      "text/plain": [
       "[array([[ 3.64254789e-02,  7.70268023e-01, -6.07639308e-03,\n",
       "          1.05248454e-02, -3.23050273e-02,  3.06554655e-01,\n",
       "          1.40655850e-01,  4.94210805e-01, -3.15746544e-01,\n",
       "         -4.09113754e-01, -6.31072985e-02,  2.48823826e-01,\n",
       "          3.62381724e-01,  2.82078118e-01,  9.97013317e-02,\n",
       "          1.67328943e-01, -1.79617387e-03,  3.69247099e-01,\n",
       "          3.10609933e-01, -3.40611776e-01],\n",
       "        [-4.79065734e-01,  3.68403153e-01,  6.59670429e-01,\n",
       "          1.30826393e-01, -2.29712979e-02, -1.39401215e-01,\n",
       "          6.88302571e-01,  6.80515273e-01,  3.67698980e-01,\n",
       "         -4.28172473e-01, -3.70043657e-01,  5.32704779e-01,\n",
       "          5.20154605e-01, -1.33212943e-01, -4.91353207e-01,\n",
       "         -5.05398943e-01,  3.38597467e-13,  1.12169173e-01,\n",
       "          1.63703338e-01,  4.76856488e-01],\n",
       "        [ 2.23485720e-01,  4.75168916e-01, -1.27623295e-01,\n",
       "          1.71926655e-01, -4.73377113e-02, -4.20421775e-01,\n",
       "         -7.05833267e-01, -3.49877912e-01,  5.61240983e-02,\n",
       "          6.52202508e-01,  4.50141266e-01, -3.61603945e-01,\n",
       "         -4.71024642e-01,  2.84611131e-01,  4.69959001e-01,\n",
       "          8.49100382e-01,  2.23048036e-03, -4.27248495e-01,\n",
       "          3.86036335e-02, -5.20373543e-01],\n",
       "        [ 8.35977162e-01, -1.33713069e-01, -3.15663532e-01,\n",
       "         -2.69662203e-01, -4.76425752e-04,  3.60697091e-02,\n",
       "         -7.20208257e-01, -3.26306388e-01, -2.16036556e-01,\n",
       "          1.09549625e+00,  2.72069526e-01,  4.68304239e-02,\n",
       "         -2.82826510e-01, -9.91820081e-02,  7.13227321e-01,\n",
       "          6.43371470e-01, -1.04173422e-02,  1.33994369e-01,\n",
       "          1.85192106e-01,  3.75928103e-01]]),\n",
       " array([[-6.29471743e-01, -7.91428150e-01,  8.70471826e-01],\n",
       "        [ 1.41635220e-01,  5.41240918e-01,  1.13435295e-01],\n",
       "        [ 4.62132212e-01, -2.24218534e-01, -5.25863266e-01],\n",
       "        [-1.25254423e-01,  6.09292175e-01, -4.76623137e-01],\n",
       "        [-6.58177118e-10,  1.92862626e-02, -1.58300860e-11],\n",
       "        [ 2.06477482e-01, -2.00424360e-01,  3.49205753e-01],\n",
       "        [ 7.69478022e-01, -7.58688110e-01, -6.58679188e-01],\n",
       "        [ 4.29792739e-01,  6.83587987e-02, -1.66489258e-01],\n",
       "        [ 3.35479803e-01,  4.74291736e-01,  3.88824930e-01],\n",
       "        [-6.76489423e-01, -1.23076592e+00,  5.96130226e-01],\n",
       "        [-1.56135313e-01, -1.14412050e+00,  1.09912524e+00],\n",
       "        [ 5.37594384e-01, -2.28557115e-01,  1.78549735e-01],\n",
       "        [ 3.60052023e-01,  7.08370176e-02, -3.22241154e-01],\n",
       "        [-1.83312095e-01,  5.73789942e-01,  6.09882068e-02],\n",
       "        [-7.74229074e-01,  7.42009087e-02,  4.30764202e-01],\n",
       "        [-6.04572779e-01,  1.13277375e-01,  6.73730645e-01],\n",
       "        [-3.43568963e-21,  8.34758854e-05,  3.29352570e-02],\n",
       "        [-2.76359960e-01, -2.57994391e-01, -1.10642030e-01],\n",
       "        [-4.17590766e-02, -4.02066276e-01, -1.87842035e-01],\n",
       "        [-2.92099205e-01, -3.74033348e-01, -1.13283443e-02]])]"
      ]
     },
     "execution_count": 12,
     "metadata": {},
     "output_type": "execute_result"
    }
   ],
   "source": [
    "classifier1.coefs_ # shows the parameters(weights only)"
   ]
  },
  {
   "cell_type": "code",
   "execution_count": 15,
   "id": "b2e7d5c9",
   "metadata": {},
   "outputs": [
    {
     "data": {
      "text/plain": [
       "((4, 20), (20, 3))"
      ]
     },
     "execution_count": 15,
     "metadata": {},
     "output_type": "execute_result"
    }
   ],
   "source": [
    "classifier1.coefs_[0].shape, classifier1.coefs_[1].shape"
   ]
  },
  {
   "cell_type": "code",
   "execution_count": 16,
   "id": "8378b4d7",
   "metadata": {},
   "outputs": [
    {
     "data": {
      "text/plain": [
       "((20,), (3,))"
      ]
     },
     "execution_count": 16,
     "metadata": {},
     "output_type": "execute_result"
    }
   ],
   "source": [
    "classifier1.intercepts_[0].shape, classifier1.intercepts_[1].shape"
   ]
  }
 ],
 "metadata": {
  "kernelspec": {
   "display_name": "Python 3 (ipykernel)",
   "language": "python",
   "name": "python3"
  },
  "language_info": {
   "codemirror_mode": {
    "name": "ipython",
    "version": 3
   },
   "file_extension": ".py",
   "mimetype": "text/x-python",
   "name": "python",
   "nbconvert_exporter": "python",
   "pygments_lexer": "ipython3",
   "version": "3.9.7"
  }
 },
 "nbformat": 4,
 "nbformat_minor": 5
}
