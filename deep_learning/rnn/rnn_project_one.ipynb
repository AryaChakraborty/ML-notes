{
 "cells": [
  {
   "cell_type": "code",
   "execution_count": 1,
   "id": "e0514f37",
   "metadata": {},
   "outputs": [],
   "source": [
    "import pandas as pd\n",
    "import numpy as np"
   ]
  },
  {
   "cell_type": "code",
   "execution_count": 2,
   "id": "7c9d9f87",
   "metadata": {},
   "outputs": [
    {
     "data": {
      "text/html": [
       "<div>\n",
       "<style scoped>\n",
       "    .dataframe tbody tr th:only-of-type {\n",
       "        vertical-align: middle;\n",
       "    }\n",
       "\n",
       "    .dataframe tbody tr th {\n",
       "        vertical-align: top;\n",
       "    }\n",
       "\n",
       "    .dataframe thead th {\n",
       "        text-align: right;\n",
       "    }\n",
       "</style>\n",
       "<table border=\"1\" class=\"dataframe\">\n",
       "  <thead>\n",
       "    <tr style=\"text-align: right;\">\n",
       "      <th></th>\n",
       "      <th>values</th>\n",
       "    </tr>\n",
       "  </thead>\n",
       "  <tbody>\n",
       "    <tr>\n",
       "      <th>0</th>\n",
       "      <td>112</td>\n",
       "    </tr>\n",
       "    <tr>\n",
       "      <th>1</th>\n",
       "      <td>118</td>\n",
       "    </tr>\n",
       "    <tr>\n",
       "      <th>2</th>\n",
       "      <td>132</td>\n",
       "    </tr>\n",
       "    <tr>\n",
       "      <th>3</th>\n",
       "      <td>129</td>\n",
       "    </tr>\n",
       "    <tr>\n",
       "      <th>4</th>\n",
       "      <td>121</td>\n",
       "    </tr>\n",
       "    <tr>\n",
       "      <th>...</th>\n",
       "      <td>...</td>\n",
       "    </tr>\n",
       "    <tr>\n",
       "      <th>139</th>\n",
       "      <td>606</td>\n",
       "    </tr>\n",
       "    <tr>\n",
       "      <th>140</th>\n",
       "      <td>508</td>\n",
       "    </tr>\n",
       "    <tr>\n",
       "      <th>141</th>\n",
       "      <td>461</td>\n",
       "    </tr>\n",
       "    <tr>\n",
       "      <th>142</th>\n",
       "      <td>390</td>\n",
       "    </tr>\n",
       "    <tr>\n",
       "      <th>143</th>\n",
       "      <td>432</td>\n",
       "    </tr>\n",
       "  </tbody>\n",
       "</table>\n",
       "<p>144 rows × 1 columns</p>\n",
       "</div>"
      ],
      "text/plain": [
       "     values\n",
       "0       112\n",
       "1       118\n",
       "2       132\n",
       "3       129\n",
       "4       121\n",
       "..      ...\n",
       "139     606\n",
       "140     508\n",
       "141     461\n",
       "142     390\n",
       "143     432\n",
       "\n",
       "[144 rows x 1 columns]"
      ]
     },
     "execution_count": 2,
     "metadata": {},
     "output_type": "execute_result"
    }
   ],
   "source": [
    "df = pd.read_csv('international-airline-passengers.csv', usecols = [1])\n",
    "df"
   ]
  },
  {
   "cell_type": "code",
   "execution_count": 3,
   "id": "ce80ea39",
   "metadata": {},
   "outputs": [
    {
     "data": {
      "text/html": [
       "<div>\n",
       "<style scoped>\n",
       "    .dataframe tbody tr th:only-of-type {\n",
       "        vertical-align: middle;\n",
       "    }\n",
       "\n",
       "    .dataframe tbody tr th {\n",
       "        vertical-align: top;\n",
       "    }\n",
       "\n",
       "    .dataframe thead th {\n",
       "        text-align: right;\n",
       "    }\n",
       "</style>\n",
       "<table border=\"1\" class=\"dataframe\">\n",
       "  <thead>\n",
       "    <tr style=\"text-align: right;\">\n",
       "      <th></th>\n",
       "      <th>values</th>\n",
       "    </tr>\n",
       "  </thead>\n",
       "  <tbody>\n",
       "    <tr>\n",
       "      <th>count</th>\n",
       "      <td>144.000000</td>\n",
       "    </tr>\n",
       "    <tr>\n",
       "      <th>mean</th>\n",
       "      <td>280.298611</td>\n",
       "    </tr>\n",
       "    <tr>\n",
       "      <th>std</th>\n",
       "      <td>119.966317</td>\n",
       "    </tr>\n",
       "    <tr>\n",
       "      <th>min</th>\n",
       "      <td>104.000000</td>\n",
       "    </tr>\n",
       "    <tr>\n",
       "      <th>25%</th>\n",
       "      <td>180.000000</td>\n",
       "    </tr>\n",
       "    <tr>\n",
       "      <th>50%</th>\n",
       "      <td>265.500000</td>\n",
       "    </tr>\n",
       "    <tr>\n",
       "      <th>75%</th>\n",
       "      <td>360.500000</td>\n",
       "    </tr>\n",
       "    <tr>\n",
       "      <th>max</th>\n",
       "      <td>622.000000</td>\n",
       "    </tr>\n",
       "  </tbody>\n",
       "</table>\n",
       "</div>"
      ],
      "text/plain": [
       "           values\n",
       "count  144.000000\n",
       "mean   280.298611\n",
       "std    119.966317\n",
       "min    104.000000\n",
       "25%    180.000000\n",
       "50%    265.500000\n",
       "75%    360.500000\n",
       "max    622.000000"
      ]
     },
     "execution_count": 3,
     "metadata": {},
     "output_type": "execute_result"
    }
   ],
   "source": [
    "df.describe()"
   ]
  },
  {
   "cell_type": "code",
   "execution_count": 4,
   "id": "db13ce9f",
   "metadata": {},
   "outputs": [
    {
     "data": {
      "text/plain": [
       "array([[112.],\n",
       "       [118.],\n",
       "       [132.],\n",
       "       [129.],\n",
       "       [121.],\n",
       "       [135.],\n",
       "       [148.],\n",
       "       [148.],\n",
       "       [136.],\n",
       "       [119.],\n",
       "       [104.],\n",
       "       [118.],\n",
       "       [115.],\n",
       "       [126.],\n",
       "       [141.],\n",
       "       [135.],\n",
       "       [125.],\n",
       "       [149.],\n",
       "       [170.],\n",
       "       [170.],\n",
       "       [158.],\n",
       "       [133.],\n",
       "       [114.],\n",
       "       [140.],\n",
       "       [145.],\n",
       "       [150.],\n",
       "       [178.],\n",
       "       [163.],\n",
       "       [172.],\n",
       "       [178.],\n",
       "       [199.],\n",
       "       [199.],\n",
       "       [184.],\n",
       "       [162.],\n",
       "       [146.],\n",
       "       [166.],\n",
       "       [171.],\n",
       "       [180.],\n",
       "       [193.],\n",
       "       [181.],\n",
       "       [183.],\n",
       "       [218.],\n",
       "       [230.],\n",
       "       [242.],\n",
       "       [209.],\n",
       "       [191.],\n",
       "       [172.],\n",
       "       [194.],\n",
       "       [196.],\n",
       "       [196.],\n",
       "       [236.],\n",
       "       [235.],\n",
       "       [229.],\n",
       "       [243.],\n",
       "       [264.],\n",
       "       [272.],\n",
       "       [237.],\n",
       "       [211.],\n",
       "       [180.],\n",
       "       [201.],\n",
       "       [204.],\n",
       "       [188.],\n",
       "       [235.],\n",
       "       [227.],\n",
       "       [234.],\n",
       "       [264.],\n",
       "       [302.],\n",
       "       [293.],\n",
       "       [259.],\n",
       "       [229.],\n",
       "       [203.],\n",
       "       [229.],\n",
       "       [242.],\n",
       "       [233.],\n",
       "       [267.],\n",
       "       [269.],\n",
       "       [270.],\n",
       "       [315.],\n",
       "       [364.],\n",
       "       [347.],\n",
       "       [312.],\n",
       "       [274.],\n",
       "       [237.],\n",
       "       [278.],\n",
       "       [284.],\n",
       "       [277.],\n",
       "       [317.],\n",
       "       [313.],\n",
       "       [318.],\n",
       "       [374.],\n",
       "       [413.],\n",
       "       [405.],\n",
       "       [355.],\n",
       "       [306.],\n",
       "       [271.],\n",
       "       [306.],\n",
       "       [315.],\n",
       "       [301.],\n",
       "       [356.],\n",
       "       [348.],\n",
       "       [355.],\n",
       "       [422.],\n",
       "       [465.],\n",
       "       [467.],\n",
       "       [404.],\n",
       "       [347.],\n",
       "       [305.],\n",
       "       [336.],\n",
       "       [340.],\n",
       "       [318.],\n",
       "       [362.],\n",
       "       [348.],\n",
       "       [363.],\n",
       "       [435.],\n",
       "       [491.],\n",
       "       [505.],\n",
       "       [404.],\n",
       "       [359.],\n",
       "       [310.],\n",
       "       [337.],\n",
       "       [360.],\n",
       "       [342.],\n",
       "       [406.],\n",
       "       [396.],\n",
       "       [420.],\n",
       "       [472.],\n",
       "       [548.],\n",
       "       [559.],\n",
       "       [463.],\n",
       "       [407.],\n",
       "       [362.],\n",
       "       [405.],\n",
       "       [417.],\n",
       "       [391.],\n",
       "       [419.],\n",
       "       [461.],\n",
       "       [472.],\n",
       "       [535.],\n",
       "       [622.],\n",
       "       [606.],\n",
       "       [508.],\n",
       "       [461.],\n",
       "       [390.],\n",
       "       [432.]], dtype=float32)"
      ]
     },
     "execution_count": 4,
     "metadata": {},
     "output_type": "execute_result"
    }
   ],
   "source": [
    "values = df.values.astype('float32')\n",
    "values"
   ]
  },
  {
   "cell_type": "code",
   "execution_count": 5,
   "id": "89f48539",
   "metadata": {},
   "outputs": [
    {
     "data": {
      "text/plain": [
       "(144, 1)"
      ]
     },
     "execution_count": 5,
     "metadata": {},
     "output_type": "execute_result"
    }
   ],
   "source": [
    "values.shape"
   ]
  },
  {
   "cell_type": "code",
   "execution_count": 6,
   "id": "3f3a8d4a",
   "metadata": {},
   "outputs": [
    {
     "data": {
      "text/plain": [
       "96"
      ]
     },
     "execution_count": 6,
     "metadata": {},
     "output_type": "execute_result"
    }
   ],
   "source": [
    "train_size = (int)(values.shape[0] * 0.67)\n",
    "train_size"
   ]
  },
  {
   "cell_type": "code",
   "execution_count": 7,
   "id": "c3dadc1d",
   "metadata": {},
   "outputs": [],
   "source": [
    "test_size = values.shape[0] - train_size"
   ]
  },
  {
   "cell_type": "code",
   "execution_count": 8,
   "id": "daf15831",
   "metadata": {
    "scrolled": true
   },
   "outputs": [
    {
     "data": {
      "text/plain": [
       "array([[112.],\n",
       "       [118.],\n",
       "       [132.],\n",
       "       [129.],\n",
       "       [121.],\n",
       "       [135.],\n",
       "       [148.],\n",
       "       [148.],\n",
       "       [136.],\n",
       "       [119.],\n",
       "       [104.],\n",
       "       [118.],\n",
       "       [115.],\n",
       "       [126.],\n",
       "       [141.],\n",
       "       [135.],\n",
       "       [125.],\n",
       "       [149.],\n",
       "       [170.],\n",
       "       [170.],\n",
       "       [158.],\n",
       "       [133.],\n",
       "       [114.],\n",
       "       [140.],\n",
       "       [145.],\n",
       "       [150.],\n",
       "       [178.],\n",
       "       [163.],\n",
       "       [172.],\n",
       "       [178.],\n",
       "       [199.],\n",
       "       [199.],\n",
       "       [184.],\n",
       "       [162.],\n",
       "       [146.],\n",
       "       [166.],\n",
       "       [171.],\n",
       "       [180.],\n",
       "       [193.],\n",
       "       [181.],\n",
       "       [183.],\n",
       "       [218.],\n",
       "       [230.],\n",
       "       [242.],\n",
       "       [209.],\n",
       "       [191.],\n",
       "       [172.],\n",
       "       [194.],\n",
       "       [196.],\n",
       "       [196.],\n",
       "       [236.],\n",
       "       [235.],\n",
       "       [229.],\n",
       "       [243.],\n",
       "       [264.],\n",
       "       [272.],\n",
       "       [237.],\n",
       "       [211.],\n",
       "       [180.],\n",
       "       [201.],\n",
       "       [204.],\n",
       "       [188.],\n",
       "       [235.],\n",
       "       [227.],\n",
       "       [234.],\n",
       "       [264.],\n",
       "       [302.],\n",
       "       [293.],\n",
       "       [259.],\n",
       "       [229.],\n",
       "       [203.],\n",
       "       [229.],\n",
       "       [242.],\n",
       "       [233.],\n",
       "       [267.],\n",
       "       [269.],\n",
       "       [270.],\n",
       "       [315.],\n",
       "       [364.],\n",
       "       [347.],\n",
       "       [312.],\n",
       "       [274.],\n",
       "       [237.],\n",
       "       [278.],\n",
       "       [284.],\n",
       "       [277.],\n",
       "       [317.],\n",
       "       [313.],\n",
       "       [318.],\n",
       "       [374.],\n",
       "       [413.],\n",
       "       [405.],\n",
       "       [355.],\n",
       "       [306.],\n",
       "       [271.],\n",
       "       [306.]], dtype=float32)"
      ]
     },
     "execution_count": 8,
     "metadata": {},
     "output_type": "execute_result"
    }
   ],
   "source": [
    "train_data = values[0:train_size]\n",
    "train_data"
   ]
  },
  {
   "cell_type": "code",
   "execution_count": 9,
   "id": "b52aa455",
   "metadata": {
    "scrolled": true
   },
   "outputs": [
    {
     "data": {
      "text/plain": [
       "array([[315.],\n",
       "       [301.],\n",
       "       [356.],\n",
       "       [348.],\n",
       "       [355.],\n",
       "       [422.],\n",
       "       [465.],\n",
       "       [467.],\n",
       "       [404.],\n",
       "       [347.],\n",
       "       [305.],\n",
       "       [336.],\n",
       "       [340.],\n",
       "       [318.],\n",
       "       [362.],\n",
       "       [348.],\n",
       "       [363.],\n",
       "       [435.],\n",
       "       [491.],\n",
       "       [505.],\n",
       "       [404.],\n",
       "       [359.],\n",
       "       [310.],\n",
       "       [337.],\n",
       "       [360.],\n",
       "       [342.],\n",
       "       [406.],\n",
       "       [396.],\n",
       "       [420.],\n",
       "       [472.],\n",
       "       [548.],\n",
       "       [559.],\n",
       "       [463.],\n",
       "       [407.],\n",
       "       [362.],\n",
       "       [405.],\n",
       "       [417.],\n",
       "       [391.],\n",
       "       [419.],\n",
       "       [461.],\n",
       "       [472.],\n",
       "       [535.],\n",
       "       [622.],\n",
       "       [606.],\n",
       "       [508.],\n",
       "       [461.],\n",
       "       [390.],\n",
       "       [432.]], dtype=float32)"
      ]
     },
     "execution_count": 9,
     "metadata": {},
     "output_type": "execute_result"
    }
   ],
   "source": [
    "test_data = values[train_size:]\n",
    "test_data"
   ]
  },
  {
   "cell_type": "code",
   "execution_count": 10,
   "id": "34ce09b3",
   "metadata": {},
   "outputs": [],
   "source": [
    "from sklearn.preprocessing import MinMaxScaler\n",
    "scaler = MinMaxScaler(feature_range = (0, 1))\n",
    "train_data = scaler.fit_transform(train_data)\n",
    "test_data = scaler.transform(test_data)"
   ]
  },
  {
   "cell_type": "code",
   "execution_count": 11,
   "id": "e8c14860",
   "metadata": {},
   "outputs": [],
   "source": [
    "def create_dataset(data, k) :\n",
    "    dataX, dataY = [], []\n",
    "    for i in range(data.shape[0]-k) :\n",
    "        x = data[i:i+k, 0]\n",
    "        y = data[i+k, 0]\n",
    "        dataX.append(x)\n",
    "        dataY.append(y)\n",
    "    return np.array(dataX), np.array(dataY)"
   ]
  },
  {
   "cell_type": "code",
   "execution_count": 12,
   "id": "79becfd4",
   "metadata": {},
   "outputs": [],
   "source": [
    "look_back = 12\n",
    "trainX, trainY = create_dataset(train_data, look_back)\n",
    "testX, testY = create_dataset(test_data, look_back)"
   ]
  },
  {
   "cell_type": "code",
   "execution_count": 13,
   "id": "68a94bd7",
   "metadata": {},
   "outputs": [],
   "source": [
    "trainX = np.reshape(trainX, (trainX.shape[0], look_back, 1))\n",
    "testX = np.reshape(testX, (testX.shape[0], look_back, 1))"
   ]
  },
  {
   "cell_type": "code",
   "execution_count": 14,
   "id": "acbc23bf",
   "metadata": {},
   "outputs": [],
   "source": [
    "from keras.models import Sequential\n",
    "from keras.layers import SimpleRNN, Dense"
   ]
  },
  {
   "cell_type": "code",
   "execution_count": 15,
   "id": "e22cc3f3",
   "metadata": {},
   "outputs": [],
   "source": [
    "model = Sequential()\n",
    "model.add(SimpleRNN(4, input_shape = (look_back, 1)))\n",
    "model.add(Dense(1))"
   ]
  },
  {
   "cell_type": "code",
   "execution_count": 16,
   "id": "14144b32",
   "metadata": {},
   "outputs": [],
   "source": [
    "model.compile(loss = 'mean_squared_error', optimizer = 'adam')"
   ]
  },
  {
   "cell_type": "code",
   "execution_count": 17,
   "id": "31330575",
   "metadata": {
    "scrolled": false
   },
   "outputs": [
    {
     "name": "stdout",
     "output_type": "stream",
     "text": [
      "Epoch 1/10\n",
      "84/84 [==============================] - 2s 7ms/step - loss: 0.0430\n",
      "Epoch 2/10\n",
      "84/84 [==============================] - 0s 5ms/step - loss: 0.0196\n",
      "Epoch 3/10\n",
      "84/84 [==============================] - 0s 5ms/step - loss: 0.0175\n",
      "Epoch 4/10\n",
      "84/84 [==============================] - 0s 5ms/step - loss: 0.0156\n",
      "Epoch 5/10\n",
      "84/84 [==============================] - 0s 4ms/step - loss: 0.0151\n",
      "Epoch 6/10\n",
      "84/84 [==============================] - 0s 5ms/step - loss: 0.0131\n",
      "Epoch 7/10\n",
      "84/84 [==============================] - 0s 6ms/step - loss: 0.0125\n",
      "Epoch 8/10\n",
      "84/84 [==============================] - 0s 6ms/step - loss: 0.0113\n",
      "Epoch 9/10\n",
      "84/84 [==============================] - 1s 7ms/step - loss: 0.0111\n",
      "Epoch 10/10\n",
      "84/84 [==============================] - 0s 5ms/step - loss: 0.0101\n"
     ]
    },
    {
     "data": {
      "text/plain": [
       "<keras.callbacks.History at 0x17efe60dd30>"
      ]
     },
     "execution_count": 17,
     "metadata": {},
     "output_type": "execute_result"
    }
   ],
   "source": [
    "model.fit(trainX, trainY, epochs = 10, batch_size = 1)"
   ]
  },
  {
   "cell_type": "code",
   "execution_count": 18,
   "id": "d6e94909",
   "metadata": {
    "scrolled": true
   },
   "outputs": [
    {
     "data": {
      "text/plain": [
       "array([340.91824, 316.37817, 289.86676, 347.36523, 326.2012 , 323.17615,\n",
       "       382.99225, 397.3912 , 390.64258, 337.771  , 338.65686, 324.94662,\n",
       "       338.1679 , 331.5784 , 305.95096, 367.20392, 349.89944, 356.02695,\n",
       "       394.42545, 420.464  , 412.03873, 366.2241 , 354.9452 , 346.80356,\n",
       "       376.9859 , 361.11362, 334.63428, 371.69067, 392.40372, 379.69666,\n",
       "       412.19934, 440.84244, 424.908  , 385.82892, 379.2431 , 349.9061 ],\n",
       "      dtype=float32)"
      ]
     },
     "execution_count": 18,
     "metadata": {},
     "output_type": "execute_result"
    }
   ],
   "source": [
    "test_predict = model.predict(testX)\n",
    "test_predict = scaler.inverse_transform(test_predict).ravel() # ravel means to make 1D array\n",
    "test_predict"
   ]
  }
 ],
 "metadata": {
  "kernelspec": {
   "display_name": "Python 3 (ipykernel)",
   "language": "python",
   "name": "python3"
  },
  "language_info": {
   "codemirror_mode": {
    "name": "ipython",
    "version": 3
   },
   "file_extension": ".py",
   "mimetype": "text/x-python",
   "name": "python",
   "nbconvert_exporter": "python",
   "pygments_lexer": "ipython3",
   "version": "3.9.7"
  }
 },
 "nbformat": 4,
 "nbformat_minor": 5
}
