{
 "cells": [
  {
   "cell_type": "markdown",
   "id": "99dd8222",
   "metadata": {},
   "source": [
    "## Importing Libraries"
   ]
  },
  {
   "cell_type": "code",
   "execution_count": 1,
   "id": "e0c5d79c",
   "metadata": {},
   "outputs": [],
   "source": [
    "import tensorflow as tf\n",
    "from tensorflow import keras\n",
    "from tensorflow.keras import layers"
   ]
  },
  {
   "cell_type": "markdown",
   "id": "66e20e0a",
   "metadata": {},
   "source": [
    "## Loading Data"
   ]
  },
  {
   "cell_type": "code",
   "execution_count": 2,
   "id": "74700f66",
   "metadata": {},
   "outputs": [],
   "source": [
    "(x_train, y_train), (x_test, y_test) = tf.keras.datasets.mnist.load_data()"
   ]
  },
  {
   "cell_type": "markdown",
   "id": "29717aed",
   "metadata": {},
   "source": [
    "## Data Preprocessing"
   ]
  },
  {
   "cell_type": "code",
   "execution_count": 3,
   "id": "101f81c2",
   "metadata": {},
   "outputs": [
    {
     "data": {
      "text/plain": [
       "((60000, 28, 28), (10000, 28, 28), (60000,), (10000,))"
      ]
     },
     "execution_count": 3,
     "metadata": {},
     "output_type": "execute_result"
    }
   ],
   "source": [
    "x_train.shape, x_test.shape, y_train.shape, y_test.shape"
   ]
  },
  {
   "cell_type": "code",
   "execution_count": 4,
   "id": "01d4db34",
   "metadata": {},
   "outputs": [
    {
     "data": {
      "image/png": "[encoded data removed]",
      "text/plain": [
       "<Figure size 432x288 with 1 Axes>"
      ]
     },
     "metadata": {
      "needs_background": "light"
     },
     "output_type": "display_data"
    }
   ],
   "source": [
    "import matplotlib.pyplot as plt\n",
    "plt.imshow(x_train[0])\n",
    "plt.show()"
   ]
  },
  {
   "cell_type": "code",
   "execution_count": 5,
   "id": "8c3957df",
   "metadata": {},
   "outputs": [
    {
     "data": {
      "text/plain": [
       "5"
      ]
     },
     "execution_count": 5,
     "metadata": {},
     "output_type": "execute_result"
    }
   ],
   "source": [
    "y_train[0]"
   ]
  },
  {
   "cell_type": "markdown",
   "id": "b6e99476",
   "metadata": {},
   "source": [
    "### One-hot encoding"
   ]
  },
  {
   "cell_type": "code",
   "execution_count": 6,
   "id": "912f0627",
   "metadata": {},
   "outputs": [],
   "source": [
    "# now we have to one hot encode the output labels since the output is between 0 to 9\n",
    "y_train = tf.keras.utils.to_categorical(y_train)\n",
    "y_test = tf.keras.utils.to_categorical(y_test)"
   ]
  },
  {
   "cell_type": "markdown",
   "id": "a292aadb",
   "metadata": {},
   "source": [
    "### Feature Scaling"
   ]
  },
  {
   "cell_type": "code",
   "execution_count": 7,
   "id": "f9aa22d2",
   "metadata": {},
   "outputs": [
    {
     "data": {
      "text/plain": [
       "(60000, 28, 28, 1)"
      ]
     },
     "execution_count": 7,
     "metadata": {},
     "output_type": "execute_result"
    }
   ],
   "source": [
    "x_train = x_train.reshape(x_train.shape[0], 28, 28, 1)/255.0     # 28*28 = 784\n",
    "# we divided by 255 because the datain every cell is between 0 to 255, so we had to normalise it\n",
    "x_train.shape"
   ]
  },
  {
   "cell_type": "code",
   "execution_count": 8,
   "id": "a88c3924",
   "metadata": {},
   "outputs": [
    {
     "data": {
      "text/plain": [
       "(10000, 28, 28, 1)"
      ]
     },
     "execution_count": 8,
     "metadata": {},
     "output_type": "execute_result"
    }
   ],
   "source": [
    "# similarly\n",
    "x_test = x_test.reshape(x_test.shape[0], 28, 28, 1)/255.0\n",
    "x_test.shape"
   ]
  },
  {
   "cell_type": "markdown",
   "id": "b2f43954",
   "metadata": {},
   "source": [
    "## Defining Model"
   ]
  },
  {
   "cell_type": "markdown",
   "id": "9379dd1f",
   "metadata": {},
   "source": [
    "it'll be :<br>Input----->Conv(32)----->MaxPool----->Conv(64)----->MaxPool----->Dense----->Output(10)"
   ]
  },
  {
   "cell_type": "code",
   "execution_count": 9,
   "id": "4f5b2db6",
   "metadata": {},
   "outputs": [],
   "source": [
    "model = keras.Sequential(\n",
    "    [\n",
    "        keras.Input(shape=(28, 28, 1)),\n",
    "        layers.Conv2D(32, kernel_size=(3, 3), activation=\"relu\"), # kernel means filter\n",
    "        layers.MaxPooling2D(pool_size=(2, 2)),\n",
    "        layers.Conv2D(64, kernel_size=(3, 3), activation=\"relu\"),\n",
    "        layers.MaxPooling2D(pool_size=(2, 2)),\n",
    "        layers.Flatten(),\n",
    "        layers.Dropout(0.8),\n",
    "        layers.Dense(10, activation=\"softmax\"),\n",
    "    ]\n",
    ")"
   ]
  },
  {
   "cell_type": "code",
   "execution_count": 10,
   "id": "093a2d06",
   "metadata": {},
   "outputs": [
    {
     "name": "stdout",
     "output_type": "stream",
     "text": [
      "Model: \"sequential\"\n",
      "_________________________________________________________________\n",
      " Layer (type)                Output Shape              Param #   \n",
      "=================================================================\n",
      " conv2d (Conv2D)             (None, 26, 26, 32)        320       \n",
      "                                                                 \n",
      " max_pooling2d (MaxPooling2D  (None, 13, 13, 32)       0         \n",
      " )                                                               \n",
      "                                                                 \n",
      " conv2d_1 (Conv2D)           (None, 11, 11, 64)        18496     \n",
      "                                                                 \n",
      " max_pooling2d_1 (MaxPooling  (None, 5, 5, 64)         0         \n",
      " 2D)                                                             \n",
      "                                                                 \n",
      " flatten (Flatten)           (None, 1600)              0         \n",
      "                                                                 \n",
      " dropout (Dropout)           (None, 1600)              0         \n",
      "                                                                 \n",
      " dense (Dense)               (None, 10)                16010     \n",
      "                                                                 \n",
      "=================================================================\n",
      "Total params: 34,826\n",
      "Trainable params: 34,826\n",
      "Non-trainable params: 0\n",
      "_________________________________________________________________\n"
     ]
    }
   ],
   "source": [
    "model.summary()"
   ]
  },
  {
   "cell_type": "markdown",
   "id": "dff86e92",
   "metadata": {},
   "source": [
    "## Compiling Model"
   ]
  },
  {
   "cell_type": "code",
   "execution_count": 11,
   "id": "367c7af3",
   "metadata": {},
   "outputs": [],
   "source": [
    "model.compile(optimizer=\"adam\", loss=\"categorical_crossentropy\", metrics=[\"accuracy\"])"
   ]
  },
  {
   "cell_type": "markdown",
   "id": "4e4332b1",
   "metadata": {},
   "source": [
    "## Training Model"
   ]
  },
  {
   "cell_type": "code",
   "execution_count": 12,
   "id": "81586d6b",
   "metadata": {},
   "outputs": [
    {
     "name": "stdout",
     "output_type": "stream",
     "text": [
      "Epoch 1/20\n",
      "60/60 [==============================] - 41s 664ms/step - loss: 1.2107 - accuracy: 0.6074\n",
      "Epoch 2/20\n",
      "60/60 [==============================] - 26s 435ms/step - loss: 0.3522 - accuracy: 0.8922\n",
      "Epoch 3/20\n",
      "60/60 [==============================] - 25s 422ms/step - loss: 0.2451 - accuracy: 0.9264\n",
      "Epoch 4/20\n",
      "60/60 [==============================] - 25s 416ms/step - loss: 0.1975 - accuracy: 0.9403\n",
      "Epoch 5/20\n",
      "60/60 [==============================] - 28s 462ms/step - loss: 0.1727 - accuracy: 0.9485\n",
      "Epoch 6/20\n",
      "60/60 [==============================] - 29s 477ms/step - loss: 0.1536 - accuracy: 0.9541\n",
      "Epoch 7/20\n",
      "60/60 [==============================] - 27s 445ms/step - loss: 0.1426 - accuracy: 0.9575\n",
      "Epoch 8/20\n",
      "60/60 [==============================] - 25s 418ms/step - loss: 0.1328 - accuracy: 0.9601\n",
      "Epoch 9/20\n",
      "60/60 [==============================] - 24s 404ms/step - loss: 0.1270 - accuracy: 0.9615\n",
      "Epoch 10/20\n",
      "60/60 [==============================] - 24s 405ms/step - loss: 0.1197 - accuracy: 0.9634\n",
      "Epoch 11/20\n",
      "60/60 [==============================] - 25s 417ms/step - loss: 0.1128 - accuracy: 0.9665\n",
      "Epoch 12/20\n",
      "60/60 [==============================] - 24s 393ms/step - loss: 0.1100 - accuracy: 0.9664\n",
      "Epoch 13/20\n",
      "60/60 [==============================] - 23s 381ms/step - loss: 0.1051 - accuracy: 0.9680\n",
      "Epoch 14/20\n",
      "60/60 [==============================] - 28s 477ms/step - loss: 0.1016 - accuracy: 0.9690\n",
      "Epoch 15/20\n",
      "60/60 [==============================] - 25s 416ms/step - loss: 0.0972 - accuracy: 0.9700\n",
      "Epoch 16/20\n",
      "60/60 [==============================] - 24s 404ms/step - loss: 0.0962 - accuracy: 0.9711\n",
      "Epoch 17/20\n",
      "60/60 [==============================] - 28s 463ms/step - loss: 0.0947 - accuracy: 0.9709\n",
      "Epoch 18/20\n",
      "60/60 [==============================] - 27s 458ms/step - loss: 0.0912 - accuracy: 0.9719\n",
      "Epoch 19/20\n",
      "60/60 [==============================] - 24s 403ms/step - loss: 0.0876 - accuracy: 0.9738\n",
      "Epoch 20/20\n",
      "60/60 [==============================] - 25s 409ms/step - loss: 0.0874 - accuracy: 0.9735\n"
     ]
    },
    {
     "data": {
      "text/plain": [
       "<keras.callbacks.History at 0x2d22fc3c1f0>"
      ]
     },
     "execution_count": 12,
     "metadata": {},
     "output_type": "execute_result"
    }
   ],
   "source": [
    "model.fit(x_train, y_train, batch_size=1000, epochs=20)"
   ]
  },
  {
   "cell_type": "code",
   "execution_count": 13,
   "id": "0da450ad",
   "metadata": {},
   "outputs": [
    {
     "name": "stdout",
     "output_type": "stream",
     "text": [
      "313/313 [==============================] - 3s 7ms/step - loss: 0.0367 - accuracy: 0.9876\n"
     ]
    },
    {
     "data": {
      "text/plain": [
       "[0.036707036197185516, 0.9876000285148621]"
      ]
     },
     "execution_count": 13,
     "metadata": {},
     "output_type": "execute_result"
    }
   ],
   "source": [
    "model.evaluate(x_test, y_test)"
   ]
  }
 ],
 "metadata": {
  "kernelspec": {
   "display_name": "Python 3 (ipykernel)",
   "language": "python",
   "name": "python3"
  },
  "language_info": {
   "codemirror_mode": {
    "name": "ipython",
    "version": 3
   },
   "file_extension": ".py",
   "mimetype": "text/x-python",
   "name": "python",
   "nbconvert_exporter": "python",
   "pygments_lexer": "ipython3",
   "version": "3.9.7"
  }
 },
 "nbformat": 4,
 "nbformat_minor": 5
}
