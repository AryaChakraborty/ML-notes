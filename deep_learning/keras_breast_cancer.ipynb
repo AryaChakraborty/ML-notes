{
 "cells": [
  {
   "cell_type": "code",
   "execution_count": 1,
   "id": "388eefb2",
   "metadata": {},
   "outputs": [],
   "source": [
    "from keras.models import Sequential"
   ]
  },
  {
   "cell_type": "code",
   "execution_count": 2,
   "id": "d099c3f6",
   "metadata": {},
   "outputs": [],
   "source": [
    "model = Sequential()"
   ]
  },
  {
   "cell_type": "code",
   "execution_count": 3,
   "id": "52f4c288",
   "metadata": {},
   "outputs": [],
   "source": [
    "from keras.layers import Dense"
   ]
  },
  {
   "cell_type": "code",
   "execution_count": 4,
   "id": "f6d4bd28",
   "metadata": {},
   "outputs": [],
   "source": [
    "layer1 = Dense(units = 32, activation = 'relu', input_dim = 30)\n",
    "model.add(layer1)\n",
    "layer2 = Dense(units = 16, activation = 'relu')\n",
    "model.add(layer2)\n",
    "layer_out = Dense(units = 1, activation = 'sigmoid')\n",
    "model.add(layer_out)"
   ]
  },
  {
   "cell_type": "code",
   "execution_count": 5,
   "id": "c69ff34b",
   "metadata": {},
   "outputs": [],
   "source": [
    "model.compile(optimizer = 'adam', loss = 'binary_crossentropy', metrics = ['accuracy'])"
   ]
  },
  {
   "cell_type": "code",
   "execution_count": 6,
   "id": "6868e13f",
   "metadata": {},
   "outputs": [],
   "source": [
    "# loading data\n",
    "from sklearn import datasets\n",
    "cancer = datasets.load_breast_cancer()\n",
    "from sklearn.model_selection import train_test_split\n",
    "x_train, x_test, y_train, y_test = train_test_split(cancer.data, cancer.target, test_size = 0.25, random_state = 0)\n",
    "\n",
    "# let's scale the data\n",
    "from sklearn.preprocessing import StandardScaler\n",
    "sc = StandardScaler()\n",
    "x_train = sc.fit_transform(x_train)\n",
    "x_test = sc.transform(x_test)"
   ]
  },
  {
   "cell_type": "code",
   "execution_count": 7,
   "id": "69be62c8",
   "metadata": {},
   "outputs": [
    {
     "data": {
      "text/plain": [
       "(426, 30)"
      ]
     },
     "execution_count": 7,
     "metadata": {},
     "output_type": "execute_result"
    }
   ],
   "source": [
    "x_train.shape"
   ]
  },
  {
   "cell_type": "code",
   "execution_count": 8,
   "id": "f723593e",
   "metadata": {},
   "outputs": [
    {
     "name": "stdout",
     "output_type": "stream",
     "text": [
      "Epoch 1/15\n",
      "11/11 [==============================] - 1s 19ms/step - loss: 0.5830 - accuracy: 0.6714 - val_loss: 0.4493 - val_accuracy: 0.8112\n",
      "Epoch 2/15\n",
      "11/11 [==============================] - 0s 5ms/step - loss: 0.3948 - accuracy: 0.8568 - val_loss: 0.3416 - val_accuracy: 0.8671\n",
      "Epoch 3/15\n",
      "11/11 [==============================] - 0s 4ms/step - loss: 0.2992 - accuracy: 0.9155 - val_loss: 0.2822 - val_accuracy: 0.8671\n",
      "Epoch 4/15\n",
      "11/11 [==============================] - 0s 4ms/step - loss: 0.2403 - accuracy: 0.9390 - val_loss: 0.2406 - val_accuracy: 0.8881\n",
      "Epoch 5/15\n",
      "11/11 [==============================] - 0s 4ms/step - loss: 0.2002 - accuracy: 0.9484 - val_loss: 0.2082 - val_accuracy: 0.9021\n",
      "Epoch 6/15\n",
      "11/11 [==============================] - 0s 4ms/step - loss: 0.1693 - accuracy: 0.9624 - val_loss: 0.1844 - val_accuracy: 0.9091\n",
      "Epoch 7/15\n",
      "11/11 [==============================] - 0s 4ms/step - loss: 0.1476 - accuracy: 0.9718 - val_loss: 0.1645 - val_accuracy: 0.9161\n",
      "Epoch 8/15\n",
      "11/11 [==============================] - 0s 5ms/step - loss: 0.1299 - accuracy: 0.9742 - val_loss: 0.1499 - val_accuracy: 0.9161\n",
      "Epoch 9/15\n",
      "11/11 [==============================] - 0s 5ms/step - loss: 0.1169 - accuracy: 0.9789 - val_loss: 0.1385 - val_accuracy: 0.9231\n",
      "Epoch 10/15\n",
      "11/11 [==============================] - 0s 5ms/step - loss: 0.1069 - accuracy: 0.9789 - val_loss: 0.1288 - val_accuracy: 0.9301\n",
      "Epoch 11/15\n",
      "11/11 [==============================] - 0s 4ms/step - loss: 0.0985 - accuracy: 0.9836 - val_loss: 0.1212 - val_accuracy: 0.9441\n",
      "Epoch 12/15\n",
      "11/11 [==============================] - 0s 4ms/step - loss: 0.0916 - accuracy: 0.9836 - val_loss: 0.1157 - val_accuracy: 0.9510\n",
      "Epoch 13/15\n",
      "11/11 [==============================] - 0s 4ms/step - loss: 0.0860 - accuracy: 0.9836 - val_loss: 0.1103 - val_accuracy: 0.9510\n",
      "Epoch 14/15\n",
      "11/11 [==============================] - 0s 4ms/step - loss: 0.0811 - accuracy: 0.9836 - val_loss: 0.1062 - val_accuracy: 0.9510\n",
      "Epoch 15/15\n",
      "11/11 [==============================] - 0s 4ms/step - loss: 0.0770 - accuracy: 0.9836 - val_loss: 0.1021 - val_accuracy: 0.9510\n"
     ]
    },
    {
     "data": {
      "text/plain": [
       "<keras.callbacks.History at 0x209f43c5d60>"
      ]
     },
     "execution_count": 8,
     "metadata": {},
     "output_type": "execute_result"
    }
   ],
   "source": [
    "model.fit(x_train, y_train, epochs = 15, batch_size = 40, validation_data = (x_test, y_test))"
   ]
  },
  {
   "cell_type": "code",
   "execution_count": 9,
   "id": "696dc711",
   "metadata": {},
   "outputs": [
    {
     "data": {
      "text/plain": [
       "array([[3.51592302e-02],\n",
       "       [9.63934898e-01],\n",
       "       [9.97937977e-01],\n",
       "       [9.88485992e-01],\n",
       "       [9.99226689e-01],\n",
       "       [9.93586421e-01],\n",
       "       [9.96147037e-01],\n",
       "       [9.95452046e-01],\n",
       "       [9.99782801e-01],\n",
       "       [9.99251664e-01],\n",
       "       [5.44285655e-01],\n",
       "       [9.29965973e-01],\n",
       "       [9.99833107e-01],\n",
       "       [3.19927365e-01],\n",
       "       [5.92007577e-01],\n",
       "       [8.46903920e-02],\n",
       "       [9.79923666e-01],\n",
       "       [5.84208965e-03],\n",
       "       [2.41860747e-02],\n",
       "       [2.00241804e-04],\n",
       "       [2.21546590e-02],\n",
       "       [5.22319376e-02],\n",
       "       [9.85230327e-01],\n",
       "       [9.97595668e-01],\n",
       "       [2.80537307e-02],\n",
       "       [9.98849213e-01],\n",
       "       [9.99925792e-01],\n",
       "       [1.19382739e-02],\n",
       "       [9.97391224e-01],\n",
       "       [1.67283416e-03],\n",
       "       [9.99832571e-01],\n",
       "       [1.71760023e-02],\n",
       "       [8.15423787e-01],\n",
       "       [2.68037021e-02],\n",
       "       [9.99980807e-01],\n",
       "       [3.72734666e-02],\n",
       "       [9.90020156e-01],\n",
       "       [1.74683332e-02],\n",
       "       [9.89020109e-01],\n",
       "       [6.39083982e-02],\n",
       "       [2.60130107e-01],\n",
       "       [9.99608338e-01],\n",
       "       [3.58079791e-01],\n",
       "       [9.99688268e-01],\n",
       "       [8.08615923e-01],\n",
       "       [4.20659781e-04],\n",
       "       [9.99991655e-01],\n",
       "       [9.76183057e-01],\n",
       "       [9.97676075e-01],\n",
       "       [2.65005231e-03],\n",
       "       [1.12680197e-02],\n",
       "       [1.24223262e-01],\n",
       "       [1.11707747e-02],\n",
       "       [9.97743070e-01],\n",
       "       [9.90338206e-01],\n",
       "       [9.99401927e-01],\n",
       "       [9.96937871e-01],\n",
       "       [9.92782235e-01],\n",
       "       [9.90434527e-01],\n",
       "       [1.16502582e-04],\n",
       "       [9.19570029e-02],\n",
       "       [1.79229379e-02],\n",
       "       [9.99816537e-01],\n",
       "       [9.84811783e-01],\n",
       "       [1.40200555e-02],\n",
       "       [8.90878201e-01],\n",
       "       [1.67197493e-06],\n",
       "       [3.36450338e-03],\n",
       "       [2.72047520e-03],\n",
       "       [9.96982455e-01],\n",
       "       [4.64511424e-01],\n",
       "       [3.18911672e-03],\n",
       "       [9.94896650e-01],\n",
       "       [4.41166848e-01],\n",
       "       [1.59478188e-03],\n",
       "       [9.84062612e-01],\n",
       "       [9.99814630e-01],\n",
       "       [8.00377190e-01],\n",
       "       [9.99711215e-01],\n",
       "       [9.99202371e-01],\n",
       "       [7.00248480e-02],\n",
       "       [7.23641133e-05],\n",
       "       [2.63139606e-03],\n",
       "       [9.99774098e-01],\n",
       "       [6.23124540e-02],\n",
       "       [9.97353673e-01],\n",
       "       [9.99890268e-01],\n",
       "       [9.99938726e-01],\n",
       "       [1.11024976e-02],\n",
       "       [9.09020946e-06],\n",
       "       [9.99811172e-01],\n",
       "       [5.55389047e-01],\n",
       "       [3.33855629e-01],\n",
       "       [6.99251890e-04],\n",
       "       [9.91835117e-01],\n",
       "       [9.92053986e-01],\n",
       "       [7.08639622e-04],\n",
       "       [9.53279555e-01],\n",
       "       [9.72014070e-01],\n",
       "       [9.93019223e-01],\n",
       "       [9.99615431e-01],\n",
       "       [9.94196296e-01],\n",
       "       [9.91922498e-01],\n",
       "       [6.71145916e-01],\n",
       "       [7.66602159e-03],\n",
       "       [9.83581066e-01],\n",
       "       [6.62475824e-04],\n",
       "       [8.07199836e-01],\n",
       "       [7.79950440e-01],\n",
       "       [5.94066203e-01],\n",
       "       [9.50467825e-01],\n",
       "       [1.09924078e-02],\n",
       "       [1.43334568e-02],\n",
       "       [9.01220322e-01],\n",
       "       [9.96131659e-01],\n",
       "       [9.60583091e-01],\n",
       "       [8.73338938e-01],\n",
       "       [9.94941473e-01],\n",
       "       [9.87885416e-01],\n",
       "       [9.94512856e-01],\n",
       "       [9.95270610e-01],\n",
       "       [9.97533798e-01],\n",
       "       [1.38622820e-01],\n",
       "       [9.82186019e-01],\n",
       "       [2.11152434e-03],\n",
       "       [7.93012381e-01],\n",
       "       [6.30492806e-01],\n",
       "       [9.99493957e-01],\n",
       "       [9.99212384e-01],\n",
       "       [9.99903679e-01],\n",
       "       [1.82854831e-02],\n",
       "       [9.99614000e-01],\n",
       "       [9.99573112e-01],\n",
       "       [4.71328408e-01],\n",
       "       [8.73930395e-01],\n",
       "       [9.99875903e-01],\n",
       "       [6.20825648e-01],\n",
       "       [4.16924119e-01],\n",
       "       [1.21863968e-05],\n",
       "       [9.91664410e-01],\n",
       "       [9.98170435e-01],\n",
       "       [9.81817424e-01],\n",
       "       [3.73184681e-04]], dtype=float32)"
      ]
     },
     "execution_count": 9,
     "metadata": {},
     "output_type": "execute_result"
    }
   ],
   "source": [
    "# predict function\n",
    "model.predict(x_test)"
   ]
  },
  {
   "cell_type": "code",
   "execution_count": 10,
   "id": "f769140c",
   "metadata": {},
   "outputs": [
    {
     "name": "stdout",
     "output_type": "stream",
     "text": [
      "5/5 [==============================] - 0s 2ms/step - loss: 0.1021 - accuracy: 0.9510\n"
     ]
    },
    {
     "data": {
      "text/plain": [
       "[0.10206613689661026, 0.9510489702224731]"
      ]
     },
     "execution_count": 10,
     "metadata": {},
     "output_type": "execute_result"
    }
   ],
   "source": [
    "# score function\n",
    "model.evaluate(x_test, y_test)"
   ]
  }
 ],
 "metadata": {
  "kernelspec": {
   "display_name": "Python 3 (ipykernel)",
   "language": "python",
   "name": "python3"
  },
  "language_info": {
   "codemirror_mode": {
    "name": "ipython",
    "version": 3
   },
   "file_extension": ".py",
   "mimetype": "text/x-python",
   "name": "python",
   "nbconvert_exporter": "python",
   "pygments_lexer": "ipython3",
   "version": "3.9.7"
  }
 },
 "nbformat": 4,
 "nbformat_minor": 5
}
