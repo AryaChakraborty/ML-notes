{
 "cells": [
  {
   "cell_type": "markdown",
   "id": "cd1dfb6a",
   "metadata": {},
   "source": [
    "### Print Hello World!"
   ]
  },
  {
   "cell_type": "code",
   "execution_count": 4,
   "id": "77b3da80",
   "metadata": {},
   "outputs": [
    {
     "name": "stdout",
     "output_type": "stream",
     "text": [
      "Hello World!\n"
     ]
    }
   ],
   "source": [
    "print(\"Hello World!\")"
   ]
  },
  {
   "cell_type": "markdown",
   "id": "660d8673",
   "metadata": {},
   "source": [
    "### Variables"
   ]
  },
  {
   "cell_type": "code",
   "execution_count": 5,
   "id": "7af3e036",
   "metadata": {
    "scrolled": true
   },
   "outputs": [
    {
     "name": "stdout",
     "output_type": "stream",
     "text": [
      "30\n"
     ]
    }
   ],
   "source": [
    "a=10\n",
    "b=20\n",
    "a+b\n",
    "print(a+b)"
   ]
  },
  {
   "cell_type": "markdown",
   "id": "ee4bd7f9",
   "metadata": {},
   "source": [
    "### String"
   ]
  },
  {
   "cell_type": "code",
   "execution_count": 9,
   "id": "e6d00eaf",
   "metadata": {},
   "outputs": [
    {
     "name": "stdout",
     "output_type": "stream",
     "text": [
      "arya\n",
      "arya\n",
      "\n",
      "a\n",
      "ry\n",
      "a\n"
     ]
    }
   ],
   "source": [
    "# double quote\n",
    "s=\"arya\"\n",
    "print(s)\n",
    "\n",
    "# single quote\n",
    "s1='arya'\n",
    "print(s1)\n",
    "\n",
    "# triple quote\n",
    "s2='''\n",
    "a\n",
    "ry\n",
    "a'''\n",
    "print(s2)\n",
    "\n",
    "# advantage with triple quote is we can print in diff lines without explicitly mentioning it"
   ]
  },
  {
   "cell_type": "markdown",
   "id": "b6d7bcbb",
   "metadata": {},
   "source": [
    "#### String Indexing in 'python'"
   ]
  },
  {
   "cell_type": "code",
   "execution_count": 14,
   "id": "d17e344b",
   "metadata": {},
   "outputs": [
    {
     "name": "stdout",
     "output_type": "stream",
     "text": [
      "a\n",
      "r\n",
      "y\n",
      "a\n",
      "\n",
      "a\n",
      "y\n",
      "r\n",
      "a\n"
     ]
    }
   ],
   "source": [
    "s=\"arya\"\n",
    "print(s[0])\n",
    "print(s[1])\n",
    "print(s[2])\n",
    "print(s[3])\n",
    "\n",
    "print()\n",
    "\n",
    "print(s[-1])\n",
    "print(s[-2])\n",
    "print(s[-3])\n",
    "print(s[-4])"
   ]
  },
  {
   "cell_type": "code",
   "execution_count": 16,
   "id": "095250cb",
   "metadata": {},
   "outputs": [
    {
     "data": {
      "text/plain": [
       "'My\\nName\\nIs\\nArya'"
      ]
     },
     "execution_count": 16,
     "metadata": {},
     "output_type": "execute_result"
    }
   ],
   "source": [
    "s='''My\n",
    "Name\n",
    "Is\n",
    "Arya'''\n",
    "\n",
    "# print(s)\n",
    "\n",
    "s"
   ]
  },
  {
   "cell_type": "markdown",
   "id": "9b8ebcd9",
   "metadata": {},
   "source": [
    "#### How Strings are stored"
   ]
  },
  {
   "cell_type": "code",
   "execution_count": 20,
   "id": "60d90068",
   "metadata": {
    "scrolled": true
   },
   "outputs": [
    {
     "name": "stdout",
     "output_type": "stream",
     "text": [
      "2335726790768\n",
      "2335726790768\n"
     ]
    }
   ],
   "source": [
    "s=\"arya\"\n",
    "a=\"arya\"\n",
    "\n",
    "print(id(s))\n",
    "print(id(a)) # addresses where it stores \"arya\" are same in case of a and s both"
   ]
  },
  {
   "cell_type": "markdown",
   "id": "edce5748",
   "metadata": {},
   "source": [
    "#### Immutability of strings in Python\n",
    "\n",
    "strings are immutable in Python, we can retrieve a char from a string but cannot modify that position of the string"
   ]
  },
  {
   "cell_type": "markdown",
   "id": "a3748ff9",
   "metadata": {},
   "source": [
    "### Functions on strings"
   ]
  },
  {
   "cell_type": "markdown",
   "id": "a4b2675e",
   "metadata": {},
   "source": [
    "#### split"
   ]
  },
  {
   "cell_type": "code",
   "execution_count": 25,
   "id": "8249c69a",
   "metadata": {},
   "outputs": [
    {
     "name": "stdout",
     "output_type": "stream",
     "text": [
      "['my', 'name', 'is', 'arya']\n",
      "['my', 'name', 'is', 'arya']\n",
      "['my', 'name,is,arya']\n"
     ]
    }
   ],
   "source": [
    "str=\"my name is arya\"\n",
    "\n",
    "li=str.split() # automatically splits on the basis of space if no arguments passed\n",
    "print(li)\n",
    "\n",
    "str1=\"my,name,is,arya\"\n",
    "li1=str1.split(',')\n",
    "print(li1)\n",
    "\n",
    "li2=str1.split(',', 1) # the other argument allows us to split the pecified number of times \n",
    "print(li2)"
   ]
  },
  {
   "cell_type": "markdown",
   "id": "bc125d09",
   "metadata": {},
   "source": [
    "#### replace"
   ]
  },
  {
   "cell_type": "code",
   "execution_count": 34,
   "id": "b54b4aa3",
   "metadata": {},
   "outputs": [
    {
     "name": "stdout",
     "output_type": "stream",
     "text": [
      "my name is arya\n",
      "my name is tito\n",
      "my name is arya\n",
      "my name is tito tito tito\n",
      "my name is tito tito arya\n"
     ]
    }
   ],
   "source": [
    "str=\"my name is arya\"\n",
    "str1 = str.replace(\"arya\", \"tito\")\n",
    "\n",
    "print(str) # will not make any change in original string (due to immutability principle)\n",
    "\n",
    "print(str1)\n",
    "\n",
    "str2 = str.replace(\"arjo\", \"tito\") # no \"arjo\" present\n",
    "print(str2)\n",
    "\n",
    "strx=\"my name is arya arya arya\"\n",
    "strx1 = strx.replace(\"arya\", \"tito\")\n",
    "print(strx1)\n",
    "\n",
    "strx2 = strx.replace(\"arya\", \"tito\", 2) # specifying the no. of times we want to change\n",
    "print(strx2)"
   ]
  },
  {
   "cell_type": "markdown",
   "id": "ed305134",
   "metadata": {},
   "source": [
    "#### find"
   ]
  },
  {
   "cell_type": "code",
   "execution_count": 42,
   "id": "d9cd3e74",
   "metadata": {},
   "outputs": [
    {
     "name": "stdout",
     "output_type": "stream",
     "text": [
      "3\n",
      "-1\n",
      "11\n",
      "16\n"
     ]
    }
   ],
   "source": [
    "str=\"my name is arya\"\n",
    "idx = str.find(\"na\");\n",
    "print(idx) # returns the start index if substring is present\n",
    "\n",
    "idx1 = str.find(\"nae\") # else returns -1\n",
    "print(idx1)\n",
    "\n",
    "str1=\"my name is arya arya arya\"\n",
    "idx2 = str.find(\"arya\")\n",
    "print(idx2)\n",
    "\n",
    "idx3 = str1.find(\"arya\", 12, 20) # from 12 to 20 if \"arya\" is present\n",
    "print(idx3)"
   ]
  },
  {
   "cell_type": "markdown",
   "id": "089eff2c",
   "metadata": {},
   "source": [
    "#### lower and upper"
   ]
  },
  {
   "cell_type": "code",
   "execution_count": 47,
   "id": "fde137b2",
   "metadata": {},
   "outputs": [
    {
     "name": "stdout",
     "output_type": "stream",
     "text": [
      "my name is arya\n",
      "MY NAME IS ARYA\n"
     ]
    }
   ],
   "source": [
    "str=\"my name is arya\"\n",
    "str1=str.lower();\n",
    "str2=str.upper();\n",
    "\n",
    "print(str1)\n",
    "print(str2)"
   ]
  },
  {
   "cell_type": "markdown",
   "id": "bc9b7014",
   "metadata": {},
   "source": [
    "#### starts-with"
   ]
  },
  {
   "cell_type": "code",
   "execution_count": 52,
   "id": "229e0546",
   "metadata": {},
   "outputs": [
    {
     "name": "stdout",
     "output_type": "stream",
     "text": [
      "False\n",
      "True\n"
     ]
    }
   ],
   "source": [
    "str=\"my name is arya\"\n",
    "ans=str.startswith(\"my\", 3, 10)\n",
    "ans1=str.startswith(\"my\")\n",
    "\n",
    "print(ans)\n",
    "print(ans1)"
   ]
  },
  {
   "cell_type": "markdown",
   "id": "89c522a6",
   "metadata": {},
   "source": [
    "#### slicing on string"
   ]
  },
  {
   "cell_type": "markdown",
   "id": "aae5147a",
   "metadata": {},
   "source": [
    "[ start : end : steps ]"
   ]
  },
  {
   "cell_type": "code",
   "execution_count": 2,
   "id": "d40c636d",
   "metadata": {},
   "outputs": [
    {
     "data": {
      "text/plain": [
       "'rya'"
      ]
     },
     "execution_count": 2,
     "metadata": {},
     "output_type": "execute_result"
    }
   ],
   "source": [
    "str=\"arya\"\n",
    "str[1:4] # it'll consider steps to be 1 if we don't specify"
   ]
  },
  {
   "cell_type": "code",
   "execution_count": 4,
   "id": "691e9fc2",
   "metadata": {},
   "outputs": [
    {
     "data": {
      "text/plain": [
       "'ra'"
      ]
     },
     "execution_count": 4,
     "metadata": {},
     "output_type": "execute_result"
    }
   ],
   "source": [
    "str[1:4:2]"
   ]
  },
  {
   "cell_type": "code",
   "execution_count": 5,
   "id": "d6a173f5",
   "metadata": {},
   "outputs": [
    {
     "data": {
      "text/plain": [
       "''"
      ]
     },
     "execution_count": 5,
     "metadata": {},
     "output_type": "execute_result"
    }
   ],
   "source": [
    "str[6:4:3] # start index is greater, so it'll return an empty string"
   ]
  },
  {
   "cell_type": "code",
   "execution_count": 6,
   "id": "ddbf4765",
   "metadata": {},
   "outputs": [
    {
     "data": {
      "text/plain": [
       "'ry'"
      ]
     },
     "execution_count": 6,
     "metadata": {},
     "output_type": "execute_result"
    }
   ],
   "source": [
    "str[-3:-1] # 3rd last element to 1st last(last) element"
   ]
  },
  {
   "cell_type": "code",
   "execution_count": 7,
   "id": "536cef34",
   "metadata": {},
   "outputs": [
    {
     "data": {
      "text/plain": [
       "'rya'"
      ]
     },
     "execution_count": 7,
     "metadata": {},
     "output_type": "execute_result"
    }
   ],
   "source": [
    "str[1:]"
   ]
  },
  {
   "cell_type": "code",
   "execution_count": 8,
   "id": "9d33c03d",
   "metadata": {},
   "outputs": [
    {
     "data": {
      "text/plain": [
       "'ary'"
      ]
     },
     "execution_count": 8,
     "metadata": {},
     "output_type": "execute_result"
    }
   ],
   "source": [
    "str[:3]"
   ]
  },
  {
   "cell_type": "code",
   "execution_count": 9,
   "id": "86213194",
   "metadata": {},
   "outputs": [
    {
     "data": {
      "text/plain": [
       "'rya'"
      ]
     },
     "execution_count": 9,
     "metadata": {},
     "output_type": "execute_result"
    }
   ],
   "source": [
    "str[1:9] # will go till the last"
   ]
  },
  {
   "cell_type": "markdown",
   "id": "74656b40",
   "metadata": {},
   "source": [
    "negative stride"
   ]
  },
  {
   "cell_type": "code",
   "execution_count": 17,
   "id": "3075f3d2",
   "metadata": {},
   "outputs": [
    {
     "data": {
      "text/plain": [
       "'ayr'"
      ]
     },
     "execution_count": 17,
     "metadata": {},
     "output_type": "execute_result"
    }
   ],
   "source": [
    "str[4:0:-1]"
   ]
  },
  {
   "cell_type": "code",
   "execution_count": 18,
   "id": "d292a29f",
   "metadata": {},
   "outputs": [
    {
     "data": {
      "text/plain": [
       "'ayra'"
      ]
     },
     "execution_count": 18,
     "metadata": {},
     "output_type": "execute_result"
    }
   ],
   "source": [
    "str[5::-1] # basically reverse"
   ]
  },
  {
   "cell_type": "code",
   "execution_count": 22,
   "id": "0cda85c7",
   "metadata": {},
   "outputs": [
    {
     "name": "stdout",
     "output_type": "stream",
     "text": [
      "ay\n"
     ]
    }
   ],
   "source": [
    "str=str[:1:-1]\n",
    "print(str)"
   ]
  },
  {
   "cell_type": "code",
   "execution_count": 24,
   "id": "d2c034b6",
   "metadata": {},
   "outputs": [
    {
     "name": "stdout",
     "output_type": "stream",
     "text": [
      "o\n"
     ]
    }
   ],
   "source": [
    "str1='hello'\n",
    "print(str1[-1:])"
   ]
  },
  {
   "cell_type": "code",
   "execution_count": 26,
   "id": "ece2d43a",
   "metadata": {},
   "outputs": [
    {
     "data": {
      "text/plain": [
       "'gh'"
      ]
     },
     "execution_count": 26,
     "metadata": {},
     "output_type": "execute_result"
    }
   ],
   "source": [
    "s=\"abcdefghi\"\n",
    "s[-3:-1]"
   ]
  },
  {
   "cell_type": "markdown",
   "id": "79b776b5",
   "metadata": {},
   "source": [
    "### Tuple"
   ]
  },
  {
   "cell_type": "markdown",
   "id": "53351822",
   "metadata": {},
   "source": [
    "Tuples are used to store multiple items in a single variable."
   ]
  },
  {
   "cell_type": "code",
   "execution_count": 28,
   "id": "8539a9ca",
   "metadata": {},
   "outputs": [
    {
     "name": "stdout",
     "output_type": "stream",
     "text": [
      "(1, 2)\n"
     ]
    }
   ],
   "source": [
    "a=(1,2)\n",
    "print(a)"
   ]
  },
  {
   "cell_type": "code",
   "execution_count": 29,
   "id": "b28b3ab8",
   "metadata": {},
   "outputs": [
    {
     "data": {
      "text/plain": [
       "tuple"
      ]
     },
     "execution_count": 29,
     "metadata": {},
     "output_type": "execute_result"
    }
   ],
   "source": [
    "type(a)"
   ]
  },
  {
   "cell_type": "code",
   "execution_count": 30,
   "id": "ff6dbdda",
   "metadata": {},
   "outputs": [
    {
     "name": "stdout",
     "output_type": "stream",
     "text": [
      "3\n",
      "4\n"
     ]
    }
   ],
   "source": [
    "b, c=3, 4\n",
    "print(b)\n",
    "print(c)"
   ]
  },
  {
   "cell_type": "code",
   "execution_count": 31,
   "id": "a488b790",
   "metadata": {},
   "outputs": [
    {
     "name": "stdout",
     "output_type": "stream",
     "text": [
      "(3, 4)\n",
      "<class 'tuple'>\n"
     ]
    }
   ],
   "source": [
    "e=3, 4 # even if we don't put parentheses\n",
    "print(e)\n",
    "print(type(e))"
   ]
  },
  {
   "cell_type": "markdown",
   "id": "625ce3b0",
   "metadata": {},
   "source": [
    "#### retrieving data from tuple"
   ]
  },
  {
   "cell_type": "code",
   "execution_count": 34,
   "id": "510c4fef",
   "metadata": {},
   "outputs": [
    {
     "name": "stdout",
     "output_type": "stream",
     "text": [
      "3\n",
      "4\n"
     ]
    }
   ],
   "source": [
    "print(e[0])\n",
    "print(e[-1])"
   ]
  },
  {
   "cell_type": "code",
   "execution_count": 38,
   "id": "d275f976",
   "metadata": {},
   "outputs": [
    {
     "name": "stdout",
     "output_type": "stream",
     "text": [
      "(1, 2, 3, 4)\n",
      "(1, 3)\n",
      "(3, 4, 5)\n"
     ]
    }
   ],
   "source": [
    "# slicing\n",
    "e=(1, 2, 3, 4, 5, 6)\n",
    "print(e[0:4])\n",
    "print(e[0:4:2])\n",
    "print(e[-4:-1:])"
   ]
  },
  {
   "cell_type": "markdown",
   "id": "c3977ecd",
   "metadata": {},
   "source": [
    "#### difference between tuples and lists\n",
    "the basic difference between tuple and list, is same as that of string and char array. </br>\n",
    "tuple is just the immutable version of list. </br>\n",
    "Thus, if we want, we can delete a tuple but not an element in a tuple if it exists."
   ]
  },
  {
   "cell_type": "code",
   "execution_count": 39,
   "id": "a3da5def",
   "metadata": {},
   "outputs": [
    {
     "name": "stdout",
     "output_type": "stream",
     "text": [
      "1\n",
      "2\n",
      "3\n"
     ]
    }
   ],
   "source": [
    "a=1, 2, 3\n",
    "b=4, 5, 6, 7\n",
    "for i in a:\n",
    "    print(i)"
   ]
  },
  {
   "cell_type": "code",
   "execution_count": 43,
   "id": "b3b1dcb8",
   "metadata": {},
   "outputs": [
    {
     "name": "stdout",
     "output_type": "stream",
     "text": [
      "True\n",
      "False\n"
     ]
    }
   ],
   "source": [
    "print(1 in a)\n",
    "print(1 in b)"
   ]
  },
  {
   "cell_type": "code",
   "execution_count": 45,
   "id": "b6546bc6",
   "metadata": {},
   "outputs": [
    {
     "data": {
      "text/plain": [
       "4"
      ]
     },
     "execution_count": 45,
     "metadata": {},
     "output_type": "execute_result"
    }
   ],
   "source": [
    "len(b)"
   ]
  },
  {
   "cell_type": "code",
   "execution_count": 47,
   "id": "9d489a6b",
   "metadata": {},
   "outputs": [
    {
     "name": "stdout",
     "output_type": "stream",
     "text": [
      "(1, 2, 3, 4, 5, 6, 7)\n"
     ]
    }
   ],
   "source": [
    "c=a+b\n",
    "print(c)"
   ]
  },
  {
   "cell_type": "code",
   "execution_count": 49,
   "id": "d327d23c",
   "metadata": {},
   "outputs": [
    {
     "name": "stdout",
     "output_type": "stream",
     "text": [
      "((1, 2, 3), (4, 5, 6, 7))\n"
     ]
    }
   ],
   "source": [
    "# tuple of tuples\n",
    "d=(a, b)\n",
    "print(d)"
   ]
  },
  {
   "cell_type": "code",
   "execution_count": 51,
   "id": "ea294490",
   "metadata": {},
   "outputs": [
    {
     "data": {
      "text/plain": [
       "(1, 2, 3, 1, 2, 3, 1, 2, 3, 1, 2, 3)"
      ]
     },
     "execution_count": 51,
     "metadata": {},
     "output_type": "execute_result"
    }
   ],
   "source": [
    "e=a*4 # also a tuple\n",
    "e"
   ]
  },
  {
   "cell_type": "code",
   "execution_count": 53,
   "id": "f34e94ac",
   "metadata": {},
   "outputs": [
    {
     "name": "stdout",
     "output_type": "stream",
     "text": [
      "1\n",
      "3\n"
     ]
    }
   ],
   "source": [
    "print(min(a))\n",
    "print(max(a))"
   ]
  },
  {
   "cell_type": "code",
   "execution_count": 54,
   "id": "679e603c",
   "metadata": {},
   "outputs": [
    {
     "data": {
      "text/plain": [
       "(1, 2, 'abc', (3, 4))"
      ]
     },
     "execution_count": 54,
     "metadata": {},
     "output_type": "execute_result"
    }
   ],
   "source": [
    "# tuple can contain multiple data types\n",
    "x=(1, 2, \"abc\", (3, 4))\n",
    "x"
   ]
  },
  {
   "cell_type": "markdown",
   "id": "f9b1a3fb",
   "metadata": {},
   "source": [
    "but in the above example we cannot find min(x) and max(x)"
   ]
  },
  {
   "cell_type": "code",
   "execution_count": 57,
   "id": "910907ae",
   "metadata": {},
   "outputs": [
    {
     "data": {
      "text/plain": [
       "(1, 2, 3, 4)"
      ]
     },
     "execution_count": 57,
     "metadata": {},
     "output_type": "execute_result"
    }
   ],
   "source": [
    "# list to tuple\n",
    "a=[1, 2, 3, 4]\n",
    "tuple(a)"
   ]
  },
  {
   "cell_type": "markdown",
   "id": "78b4a7db",
   "metadata": {},
   "source": [
    "## THANK YOU!"
   ]
  }
 ],
 "metadata": {
  "kernelspec": {
   "display_name": "Python 3 (ipykernel)",
   "language": "python",
   "name": "python3"
  },
  "language_info": {
   "codemirror_mode": {
    "name": "ipython",
    "version": 3
   },
   "file_extension": ".py",
   "mimetype": "text/x-python",
   "name": "python",
   "nbconvert_exporter": "python",
   "pygments_lexer": "ipython3",
   "version": "3.9.7"
  }
 },
 "nbformat": 4,
 "nbformat_minor": 5
}
