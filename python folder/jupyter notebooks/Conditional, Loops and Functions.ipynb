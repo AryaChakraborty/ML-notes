{
 "cells": [
  {
   "cell_type": "markdown",
   "id": "2bc0b5d8",
   "metadata": {},
   "source": [
    "### Boolean data type and expressions"
   ]
  },
  {
   "cell_type": "code",
   "execution_count": 1,
   "id": "4636c2cb",
   "metadata": {},
   "outputs": [
    {
     "data": {
      "text/plain": [
       "bool"
      ]
     },
     "execution_count": 1,
     "metadata": {},
     "output_type": "execute_result"
    }
   ],
   "source": [
    "a=True\n",
    "type(a)"
   ]
  },
  {
   "cell_type": "code",
   "execution_count": 5,
   "id": "58e4daf3",
   "metadata": {},
   "outputs": [
    {
     "name": "stdout",
     "output_type": "stream",
     "text": [
      "False\n",
      "True\n",
      "False\n"
     ]
    }
   ],
   "source": [
    "# relational operators\n",
    "a=True\n",
    "b=False\n",
    "print(a and b)\n",
    "print(a or b)\n",
    "print(not(a))"
   ]
  },
  {
   "cell_type": "code",
   "execution_count": 7,
   "id": "c93f442d",
   "metadata": {},
   "outputs": [
    {
     "name": "stdout",
     "output_type": "stream",
     "text": [
      "6\n",
      "even\n",
      "I am  six\n"
     ]
    }
   ],
   "source": [
    "a=int(input())\n",
    "\n",
    "# both conditionals will be true\n",
    "if a%2==0 :\n",
    "    print(\"even\")\n",
    "if a==6 :\n",
    "    print(\"I am  six\")"
   ]
  },
  {
   "cell_type": "code",
   "execution_count": 13,
   "id": "6c49c0c2",
   "metadata": {},
   "outputs": [
    {
     "name": "stdout",
     "output_type": "stream",
     "text": [
      "67\n",
      "old\n"
     ]
    }
   ],
   "source": [
    "age=int(input())\n",
    "\n",
    "if age<18 :\n",
    "    print('child')\n",
    "elif age>=18 and age<=40 :\n",
    "    print('adult')\n",
    "else :\n",
    "    print('old')"
   ]
  },
  {
   "cell_type": "code",
   "execution_count": 15,
   "id": "a624d400",
   "metadata": {},
   "outputs": [
    {
     "name": "stdout",
     "output_type": "stream",
     "text": [
      "B\n"
     ]
    }
   ],
   "source": [
    "if True or True:\n",
    "    if False and True or False:\n",
    "        print('A')\n",
    "    elif False and False or True and True:\n",
    "       print('B')\n",
    "    else:\n",
    "      print('C')\n",
    "else:\n",
    "     print('D')"
   ]
  },
  {
   "cell_type": "markdown",
   "id": "fd319ccf",
   "metadata": {},
   "source": [
    "### Loops"
   ]
  },
  {
   "cell_type": "markdown",
   "id": "b1e78824",
   "metadata": {},
   "source": [
    "#### while loop"
   ]
  },
  {
   "cell_type": "code",
   "execution_count": 22,
   "id": "9cb5d4dc",
   "metadata": {},
   "outputs": [
    {
     "name": "stdout",
     "output_type": "stream",
     "text": [
      "5\n",
      "1\n",
      "2\n",
      "3\n",
      "4\n",
      "5\n"
     ]
    }
   ],
   "source": [
    "i=1\n",
    "n=int(input())\n",
    "while i<=n :\n",
    "    print(i)\n",
    "    i+=1"
   ]
  },
  {
   "cell_type": "markdown",
   "id": "1bfac898",
   "metadata": {},
   "source": [
    "#### for loop"
   ]
  },
  {
   "cell_type": "code",
   "execution_count": 26,
   "id": "328acd52",
   "metadata": {},
   "outputs": [
    {
     "name": "stdout",
     "output_type": "stream",
     "text": [
      "a\n",
      "b\n",
      "c\n",
      "d\n",
      "e\n",
      "f\n"
     ]
    }
   ],
   "source": [
    "str='abcdef'\n",
    "\n",
    "for i in str :\n",
    "    print(i)"
   ]
  },
  {
   "cell_type": "code",
   "execution_count": 31,
   "id": "6c9a3355",
   "metadata": {},
   "outputs": [
    {
     "name": "stdout",
     "output_type": "stream",
     "text": [
      "8\n",
      "0\n",
      "2\n",
      "4\n",
      "6\n"
     ]
    }
   ],
   "source": [
    "n=int(input())\n",
    "\n",
    "# range -> (start, end, step)\n",
    "# # [start, end)\n",
    "\n",
    "for i in range(0, n, 2) :\n",
    "    print(i)"
   ]
  },
  {
   "cell_type": "code",
   "execution_count": 36,
   "id": "e3d70704",
   "metadata": {},
   "outputs": [
    {
     "name": "stdout",
     "output_type": "stream",
     "text": [
      "5\n",
      "4\n",
      "3\n",
      "2\n",
      "1\n"
     ]
    }
   ],
   "source": [
    "for i in range(5, 0, -1) :\n",
    "    print(i)"
   ]
  },
  {
   "cell_type": "markdown",
   "id": "8f61a5ee",
   "metadata": {},
   "source": [
    "### Functions"
   ]
  },
  {
   "cell_type": "code",
   "execution_count": 3,
   "id": "11a663f1",
   "metadata": {},
   "outputs": [
    {
     "name": "stdout",
     "output_type": "stream",
     "text": [
      "7\n",
      "5040\n"
     ]
    }
   ],
   "source": [
    "# factorial\n",
    "\n",
    "n=int(input())\n",
    "fact=1\n",
    "\n",
    "for i in range(1, n+1, 1) :\n",
    "    fact = fact * i\n",
    "\n",
    "print(fact)"
   ]
  },
  {
   "cell_type": "markdown",
   "id": "74d18e95",
   "metadata": {},
   "source": [
    "<b>But if we want to use this code factorial for multiple number of times, then we should write a function which uses the piece of code required amount of times</b>\n",
    "\n",
    "<b>the piece of code below shows how we define a function in python</b>"
   ]
  },
  {
   "cell_type": "code",
   "execution_count": 13,
   "id": "6466b89f",
   "metadata": {},
   "outputs": [
    {
     "name": "stdout",
     "output_type": "stream",
     "text": [
      "4\n",
      "2\n",
      "6\n"
     ]
    }
   ],
   "source": [
    "def fact(a) :\n",
    "    if a<=1 :\n",
    "        return 1\n",
    "    return a*fact(a-1)\n",
    "\n",
    "x=int(input())\n",
    "y=int(input())\n",
    "# xCy\n",
    "print(fact(x)//(fact(y)*fact(x-y)))"
   ]
  },
  {
   "cell_type": "code",
   "execution_count": 21,
   "id": "374895f5",
   "metadata": {},
   "outputs": [
    {
     "name": "stdout",
     "output_type": "stream",
     "text": [
      "28\n"
     ]
    }
   ],
   "source": [
    "# more is 'not' a keyword, it signifies a tuple of indefinite length\n",
    "def sum(a, *more) :\n",
    "    s=0\n",
    "    s=s+a\n",
    "    # print(type(more))\n",
    "    for i in more :\n",
    "        s=s+i\n",
    "    return s\n",
    "print(sum(1, 2, 3, 4, 5, 6, 7))"
   ]
  },
  {
   "cell_type": "code",
   "execution_count": 27,
   "id": "a1112e6f",
   "metadata": {},
   "outputs": [
    {
     "name": "stdout",
     "output_type": "stream",
     "text": [
      "(7, -3, 10, 0.4)\n"
     ]
    }
   ],
   "source": [
    "def calc(a, b) :\n",
    "    return a+b, a-b, a*b, a/b\n",
    "\n",
    "print(calc(2, 5))\n",
    "#print(type(calc(20, 5)))"
   ]
  },
  {
   "cell_type": "code",
   "execution_count": 31,
   "id": "731dad95",
   "metadata": {},
   "outputs": [
    {
     "name": "stdout",
     "output_type": "stream",
     "text": [
      "34\n"
     ]
    }
   ],
   "source": [
    "# only a copy of data is passed, not the actual reference in the memory\n",
    "def  change(a) :\n",
    "    a=45\n",
    "\n",
    "a=34\n",
    "change(a)\n",
    "print(a)"
   ]
  },
  {
   "cell_type": "code",
   "execution_count": 33,
   "id": "589ab992",
   "metadata": {},
   "outputs": [
    {
     "name": "stdout",
     "output_type": "stream",
     "text": [
      "9 27\n"
     ]
    }
   ],
   "source": [
    "def power(x, y=2):\n",
    "      ans = 1\n",
    "      for i in range(y):\n",
    "          ans = ans * x\n",
    "      return ans\n",
    "print(power(3), end=\" \")\n",
    "print(power(3,3))"
   ]
  }
 ],
 "metadata": {
  "kernelspec": {
   "display_name": "Python 3 (ipykernel)",
   "language": "python",
   "name": "python3"
  },
  "language_info": {
   "codemirror_mode": {
    "name": "ipython",
    "version": 3
   },
   "file_extension": ".py",
   "mimetype": "text/x-python",
   "name": "python",
   "nbconvert_exporter": "python",
   "pygments_lexer": "ipython3",
   "version": "3.9.7"
  }
 },
 "nbformat": 4,
 "nbformat_minor": 5
}
