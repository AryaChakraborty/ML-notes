{
 "cells": [
  {
   "cell_type": "markdown",
   "id": "991680d5",
   "metadata": {},
   "source": [
    "### Dictionaries are just like Hashmaps\n",
    "\n",
    "<i> just like we use a hash value(index) in array, we use a user defined hash value in maps/dictionaries </i><br>\n",
    "<i> talking about the data type, map is actually a list of pairs -> (key,  value) </i>"
   ]
  },
  {
   "cell_type": "code",
   "execution_count": 1,
   "id": "0e17af6d",
   "metadata": {},
   "outputs": [
    {
     "data": {
      "text/plain": [
       "dict"
      ]
     },
     "execution_count": 1,
     "metadata": {},
     "output_type": "execute_result"
    }
   ],
   "source": [
    "# dictionaries use {} brackets\n",
    "\n",
    "a={}\n",
    "type(a)"
   ]
  },
  {
   "cell_type": "code",
   "execution_count": 9,
   "id": "72ede4d4",
   "metadata": {},
   "outputs": [
    {
     "name": "stdout",
     "output_type": "stream",
     "text": [
      "{'arya': 1, 'tito': 2, 69: 'mango'}\n",
      "3\n",
      "mango\n"
     ]
    }
   ],
   "source": [
    "# key : data\n",
    "\n",
    "dic={'arya':1, 'tito':2, 69:'mango'}\n",
    "print(dic)\n",
    "print(len(dic))\n",
    "print(dic[69])"
   ]
  },
  {
   "cell_type": "code",
   "execution_count": 10,
   "id": "fd31f67e",
   "metadata": {},
   "outputs": [
    {
     "data": {
      "text/plain": [
       "{'arya': 1, 'tito': 2, 69: 'mango'}"
      ]
     },
     "execution_count": 10,
     "metadata": {},
     "output_type": "execute_result"
    }
   ],
   "source": [
    "b=dic.copy()\n",
    "b"
   ]
  },
  {
   "cell_type": "code",
   "execution_count": 13,
   "id": "80d5083d",
   "metadata": {},
   "outputs": [
    {
     "name": "stdout",
     "output_type": "stream",
     "text": [
      "{(100, 201, 'abc'): None}\n"
     ]
    }
   ],
   "source": [
    "# another way of creating dictionary\n",
    "\n",
    "c=dict.fromkeys([(100, 201, 'abc')])\n",
    "print(c)"
   ]
  },
  {
   "cell_type": "code",
   "execution_count": 15,
   "id": "9e1264fc",
   "metadata": {},
   "outputs": [
    {
     "name": "stdout",
     "output_type": "stream",
     "text": [
      "{(100, 201, 'abc'): 2.0}\n"
     ]
    }
   ],
   "source": [
    "c=dict.fromkeys([(100, 201, 'abc')], 2.0) # all keys pointing to 2.0\n",
    "print(c)"
   ]
  },
  {
   "cell_type": "markdown",
   "id": "cc8351d6",
   "metadata": {},
   "source": [
    "<b> Dictionaries are mutable </b>"
   ]
  },
  {
   "cell_type": "markdown",
   "id": "26ea4bca",
   "metadata": {},
   "source": [
    "<i> retreiving data from dictionaries </i>"
   ]
  },
  {
   "cell_type": "code",
   "execution_count": 18,
   "id": "5a15f125",
   "metadata": {},
   "outputs": [
    {
     "data": {
      "text/plain": [
       "dict"
      ]
     },
     "execution_count": 18,
     "metadata": {},
     "output_type": "execute_result"
    }
   ],
   "source": [
    "a={1:2, 3:4, 'arya':5, 'list':[1, 2, 3], 'dic':{8:9, 10:2.0}}\n",
    "type(a['dic'])"
   ]
  },
  {
   "cell_type": "code",
   "execution_count": 20,
   "id": "a42c92a6",
   "metadata": {},
   "outputs": [
    {
     "name": "stdout",
     "output_type": "stream",
     "text": [
      "[1, 2, 3]\n",
      "None\n"
     ]
    }
   ],
   "source": [
    "# get function\n",
    "\n",
    "print(a.get('list')) # a[key] and a.get(key) is the same until the key is present\n",
    "print(a.get('li')) # but, when key is absent, a[key] gives error whereas, a.get(key) silently fails "
   ]
  },
  {
   "cell_type": "code",
   "execution_count": 23,
   "id": "45fa7c6b",
   "metadata": {},
   "outputs": [
    {
     "name": "stdout",
     "output_type": "stream",
     "text": [
      "[1, 2, 3]\n",
      "0\n"
     ]
    }
   ],
   "source": [
    "# get function part-II\n",
    "# returns key value if present otherwise returns 2nd argument\n",
    "\n",
    "print(a.get('list', 0))\n",
    "print(a.get('li', 0))"
   ]
  },
  {
   "cell_type": "code",
   "execution_count": 25,
   "id": "681f4781",
   "metadata": {},
   "outputs": [
    {
     "data": {
      "text/plain": [
       "dict_keys([1, 3, 'arya', 'list', 'dic'])"
      ]
     },
     "execution_count": 25,
     "metadata": {},
     "output_type": "execute_result"
    }
   ],
   "source": [
    "a.keys() # returns all keys"
   ]
  },
  {
   "cell_type": "code",
   "execution_count": 27,
   "id": "bc4d312a",
   "metadata": {},
   "outputs": [
    {
     "data": {
      "text/plain": [
       "dict_values([2, 4, 5, [1, 2, 3], {8: 9, 10: 2.0}])"
      ]
     },
     "execution_count": 27,
     "metadata": {},
     "output_type": "execute_result"
    }
   ],
   "source": [
    "a.values() # returns all values"
   ]
  },
  {
   "cell_type": "code",
   "execution_count": 29,
   "id": "8c63ad9c",
   "metadata": {},
   "outputs": [
    {
     "data": {
      "text/plain": [
       "dict_items([(1, 2), (3, 4), ('arya', 5), ('list', [1, 2, 3]), ('dic', {8: 9, 10: 2.0})])"
      ]
     },
     "execution_count": 29,
     "metadata": {},
     "output_type": "execute_result"
    }
   ],
   "source": [
    "a.items() # returns all items"
   ]
  },
  {
   "cell_type": "code",
   "execution_count": 33,
   "id": "2a913bfb",
   "metadata": {},
   "outputs": [
    {
     "name": "stdout",
     "output_type": "stream",
     "text": [
      "1\n",
      "2\n",
      "3\n",
      "4\n",
      "arya\n",
      "5\n",
      "list\n",
      "[1, 2, 3]\n",
      "dic\n",
      "{8: 9, 10: 2.0}\n"
     ]
    }
   ],
   "source": [
    "for i in a :\n",
    "    print(i) # print 'keys'\n",
    "    print(a[i])"
   ]
  },
  {
   "cell_type": "code",
   "execution_count": 35,
   "id": "4dd6cea1",
   "metadata": {},
   "outputs": [
    {
     "name": "stdout",
     "output_type": "stream",
     "text": [
      "2\n",
      "4\n",
      "5\n",
      "[1, 2, 3]\n",
      "{8: 9, 10: 2.0}\n"
     ]
    }
   ],
   "source": [
    "for i in a.values() :\n",
    "    print(i)"
   ]
  },
  {
   "cell_type": "code",
   "execution_count": 38,
   "id": "7244477f",
   "metadata": {},
   "outputs": [
    {
     "name": "stdout",
     "output_type": "stream",
     "text": [
      "True\n",
      "False\n"
     ]
    }
   ],
   "source": [
    "# 'key' in dictionary (returns true if key present... false otherwise)\n",
    "\n",
    "print('list' in a)\n",
    "print('li' in a)"
   ]
  },
  {
   "cell_type": "code",
   "execution_count": 40,
   "id": "a349a6c7",
   "metadata": {},
   "outputs": [
    {
     "name": "stdout",
     "output_type": "stream",
     "text": [
      "{1: 2, 3: 4, 'arya': 5, 'list': [1, 2, 3], 'dic': {8: 9, 10: 2.0}, 'tuple': (12, 13, 14)}\n"
     ]
    }
   ],
   "source": [
    "a={1:2, 3:4, 'arya':5, 'list':[1, 2, 3], 'dic':{8:9, 10:2.0}}\n",
    "# adding an element in dict.\n",
    "\n",
    "a['tuple']=(12,13,14) # 'tuple' is the key\n",
    "print(a)"
   ]
  },
  {
   "cell_type": "code",
   "execution_count": 42,
   "id": "81c9bd4e",
   "metadata": {},
   "outputs": [
    {
     "name": "stdout",
     "output_type": "stream",
     "text": [
      "{1: 22, 3: 4, 'arya': 5, 'list': [1, 2, 3], 'dic': {8: 9, 10: 2.0}, 'tuple': (12, 13, 14)}\n"
     ]
    }
   ],
   "source": [
    "# updating element with key 1 in dict.\n",
    "\n",
    "a[1]=22\n",
    "print(a)"
   ]
  },
  {
   "cell_type": "code",
   "execution_count": 45,
   "id": "fc4f0e60",
   "metadata": {},
   "outputs": [
    {
     "name": "stdout",
     "output_type": "stream",
     "text": [
      "{1: 32, 3: 4, 'arya': 5, 'list': [1, 2, 3], 'dic': {8: 9, 10: 2.0}, 'tuple': (12, 13, 14), 'li': [1, 2, 3]}\n"
     ]
    }
   ],
   "source": [
    "# update function\n",
    "\n",
    "b={1:32, 'li':[1, 2, 3]}\n",
    "# a[1] is updated to 32 since it was present in a\n",
    "# and a new key 'li' with its value is added since it wasn't present\n",
    "\n",
    "a.update(b)\n",
    "print(a)"
   ]
  },
  {
   "cell_type": "code",
   "execution_count": 51,
   "id": "7c51cb65",
   "metadata": {},
   "outputs": [
    {
     "name": "stdout",
     "output_type": "stream",
     "text": [
      "[1, 2, 3]\n",
      "None\n"
     ]
    }
   ],
   "source": [
    "# a.pop(key), key must be present\n",
    "\n",
    "a={1: 32, 3: 4, 'arya': 5, 'list': [1, 2, 3], 'dic': {8: 9, 10: 2.0}, 'tuple': (12, 13, 14), 'li': [1, 2, 3]}\n",
    "\n",
    "print(a.get('li'))\n",
    "a.pop('li') # similiar to erase funtion in C++\n",
    "print(a.get('li'))"
   ]
  },
  {
   "cell_type": "code",
   "execution_count": 53,
   "id": "5edf111e",
   "metadata": {},
   "outputs": [
    {
     "data": {
      "text/plain": [
       "{3: 4,\n",
       " 'arya': 5,\n",
       " 'list': [1, 2, 3],\n",
       " 'dic': {8: 9, 10: 2.0},\n",
       " 'tuple': (12, 13, 14),\n",
       " 'li': [1, 2, 3]}"
      ]
     },
     "execution_count": 53,
     "metadata": {},
     "output_type": "execute_result"
    }
   ],
   "source": [
    "a={1: 32, 3: 4, 'arya': 5, 'list': [1, 2, 3], 'dic': {8: 9, 10: 2.0}, 'tuple': (12, 13, 14), 'li': [1, 2, 3]}\n",
    "del a[1] # key 1 element is removed\n",
    "a"
   ]
  },
  {
   "cell_type": "code",
   "execution_count": 56,
   "id": "b875ca29",
   "metadata": {},
   "outputs": [
    {
     "data": {
      "text/plain": [
       "{}"
      ]
     },
     "execution_count": 56,
     "metadata": {},
     "output_type": "execute_result"
    }
   ],
   "source": [
    "a.clear()\n",
    "a # dictionary is still there, but elements are removed"
   ]
  },
  {
   "cell_type": "code",
   "execution_count": 58,
   "id": "be33feb0",
   "metadata": {},
   "outputs": [
    {
     "data": {
      "text/plain": [
       "False"
      ]
     },
     "execution_count": 58,
     "metadata": {},
     "output_type": "execute_result"
    }
   ],
   "source": [
    "# comparing dicts.\n",
    "\n",
    "d1 = {\"john\":40, \"peter\":45}\n",
    "d2 = {\"john\":466, \"peter\":45}\n",
    "d1 == d2"
   ]
  },
  {
   "cell_type": "code",
   "execution_count": 59,
   "id": "ef4aa196",
   "metadata": {},
   "outputs": [
    {
     "data": {
      "text/plain": [
       "True"
      ]
     },
     "execution_count": 59,
     "metadata": {},
     "output_type": "execute_result"
    }
   ],
   "source": [
    "d1 = {\"john\":40, \"peter\":45}\n",
    "d2 = {\"john\":40, \"peter\":45}\n",
    "d1 == d2"
   ]
  }
 ],
 "metadata": {
  "kernelspec": {
   "display_name": "Python 3 (ipykernel)",
   "language": "python",
   "name": "python3"
  },
  "language_info": {
   "codemirror_mode": {
    "name": "ipython",
    "version": 3
   },
   "file_extension": ".py",
   "mimetype": "text/x-python",
   "name": "python",
   "nbconvert_exporter": "python",
   "pygments_lexer": "ipython3",
   "version": "3.9.7"
  }
 },
 "nbformat": 4,
 "nbformat_minor": 5
}
