{
 "cells": [
  {
   "cell_type": "markdown",
   "id": "1f514612",
   "metadata": {},
   "source": [
    "## 2D Lists"
   ]
  },
  {
   "cell_type": "markdown",
   "id": "cf7cacae",
   "metadata": {},
   "source": [
    "<i>2D Lists are lists of lists</i>"
   ]
  },
  {
   "cell_type": "code",
   "execution_count": 2,
   "id": "8a23036c",
   "metadata": {},
   "outputs": [
    {
     "name": "stdout",
     "output_type": "stream",
     "text": [
      "[[1, 2], [3, 4], [5, 6, 7]]\n"
     ]
    }
   ],
   "source": [
    "# example\n",
    "\n",
    "li=[[1,2],[3,4],[5,6,7]]\n",
    "print(li)"
   ]
  },
  {
   "cell_type": "code",
   "execution_count": 6,
   "id": "8b5dda48",
   "metadata": {},
   "outputs": [
    {
     "name": "stdout",
     "output_type": "stream",
     "text": [
      "2\n",
      "7\n"
     ]
    }
   ],
   "source": [
    "print(li[0][1])\n",
    "print(li[2][2])"
   ]
  },
  {
   "cell_type": "code",
   "execution_count": 15,
   "id": "f58bbc88",
   "metadata": {},
   "outputs": [
    {
     "name": "stdout",
     "output_type": "stream",
     "text": [
      "[0, 1, 2, 3, 4, 5, 6, 7, 8, 9]\n"
     ]
    }
   ],
   "source": [
    "l1d=[i for i in range(10)]\n",
    "print(l1d)"
   ]
  },
  {
   "cell_type": "code",
   "execution_count": 21,
   "id": "8e7dff10",
   "metadata": {},
   "outputs": [
    {
     "data": {
      "text/plain": [
       "[[0, 1, 2, 3, 4],\n",
       " [0, 1, 2, 3, 4],\n",
       " [0, 1, 2, 3, 4],\n",
       " [0, 1, 2, 3, 4],\n",
       " [0, 1, 2, 3, 4],\n",
       " [0, 1, 2, 3, 4],\n",
       " [0, 1, 2, 3, 4],\n",
       " [0, 1, 2, 3, 4],\n",
       " [0, 1, 2, 3, 4],\n",
       " [0, 1, 2, 3, 4]]"
      ]
     },
     "execution_count": 21,
     "metadata": {},
     "output_type": "execute_result"
    }
   ],
   "source": [
    "l2d=[[j for j in range(5)] for i in range(10)]\n",
    "l2d"
   ]
  },
  {
   "cell_type": "code",
   "execution_count": 24,
   "id": "344c973a",
   "metadata": {},
   "outputs": [
    {
     "data": {
      "text/plain": [
       "[[0, 1, 2, 3, 4],\n",
       " [5, 6, 7, 8, 9],\n",
       " [10, 11, 12, 13, 14],\n",
       " [15, 16, 17, 18, 19],\n",
       " [20, 21, 22, 23, 24],\n",
       " [25, 26, 27, 28, 29],\n",
       " [30, 31, 32, 33, 34],\n",
       " [35, 36, 37, 38, 39],\n",
       " [40, 41, 42, 43, 44],\n",
       " [45, 46, 47, 48, 49]]"
      ]
     },
     "execution_count": 24,
     "metadata": {},
     "output_type": "execute_result"
    }
   ],
   "source": [
    "# printing consecutive numbers\n",
    "\n",
    "l2d=[[5*i+j for j in range(5)] for i in range(10)]\n",
    "l2d"
   ]
  },
  {
   "cell_type": "code",
   "execution_count": 29,
   "id": "a93559f6",
   "metadata": {},
   "outputs": [
    {
     "name": "stdout",
     "output_type": "stream",
     "text": [
      "2 3\n",
      "1\n",
      "2\n",
      "3\n",
      "4\n",
      "5\n",
      "6\n"
     ]
    },
    {
     "data": {
      "text/plain": [
       "[[1, 2, 3], [4, 5, 6]]"
      ]
     },
     "execution_count": 29,
     "metadata": {},
     "output_type": "execute_result"
    }
   ],
   "source": [
    "# input into a 2D array\n",
    "\n",
    "str=input().strip().split(' ')\n",
    "n=int(str[0])\n",
    "m=int(str[1])\n",
    "li=[[0 for j in range(m)] for i in range(n)]\n",
    "for i in range(n) :\n",
    "    for j in range(m) :\n",
    "        li[i][j]=int(input())\n",
    "\n",
    "li"
   ]
  },
  {
   "cell_type": "code",
   "execution_count": 35,
   "id": "1006af86",
   "metadata": {},
   "outputs": [
    {
     "name": "stdout",
     "output_type": "stream",
     "text": [
      "3 2\n",
      "1\n",
      "2\n",
      "3\n",
      "4\n",
      "5\n",
      "6\n",
      "[[1, 2], [3, 4], [5, 6]]\n"
     ]
    }
   ],
   "source": [
    "# converting a 1D array to 2D array\n",
    "\n",
    "str=input().strip().split(' ')\n",
    "n=int(str[0])\n",
    "m=int(str[1])\n",
    "li=[int(input()) for i in range(n*m)]\n",
    "out=[]\n",
    "for i in range (n) :\n",
    "    out.append([])\n",
    "    for j in range (m) :\n",
    "        out[i].append(li[i*m+j]) # important step\n",
    "\n",
    "print(out)"
   ]
  },
  {
   "cell_type": "code",
   "execution_count": 37,
   "id": "15081d86",
   "metadata": {},
   "outputs": [
    {
     "name": "stdout",
     "output_type": "stream",
     "text": [
      "3 2\n",
      "1\n",
      "3\n",
      "2\n",
      "14\n",
      "12\n",
      "11\n",
      "[[1, 3], [2, 14], [12, 11]]\n"
     ]
    }
   ],
   "source": [
    "# OR\n",
    "\n",
    "str=input().strip().split(' ')\n",
    "n=int(str[0])\n",
    "m=int(str[1])\n",
    "li=[int(input()) for i in range(n*m)]\n",
    "\n",
    "# one liner\n",
    "out=[[li[i*m+j] for j in range(m)] for i in range(n)]\n",
    "\n",
    "print(out)"
   ]
  },
  {
   "cell_type": "code",
   "execution_count": 50,
   "id": "b0b99ace",
   "metadata": {},
   "outputs": [
    {
     "name": "stdout",
     "output_type": "stream",
     "text": [
      "[1, 2, 3, 4, 5, 6, 7, 8, 9, 10, 11, 12, 13, 14, 15, 16, 17, 18, 19, 20]\n"
     ]
    }
   ],
   "source": [
    "# wave print 2D array\n",
    "\n",
    "li=[[1,8,9,16,17],[2,7,10,15,18],[3,6,11,14,19],[4,5,12,13,20]]\n",
    "out=[]\n",
    "\n",
    "for j in range(len(li[0])) :\n",
    "    if (j%2==0) :\n",
    "        for i in range(len(li)) :\n",
    "            out.append(li[i][j])\n",
    "    else :\n",
    "        i=len(li)-1\n",
    "        while(i>=0) :\n",
    "            out.append(li[i][j])\n",
    "            i=i-1\n",
    "        \n",
    "print(out)"
   ]
  }
 ],
 "metadata": {
  "kernelspec": {
   "display_name": "Python 3 (ipykernel)",
   "language": "python",
   "name": "python3"
  },
  "language_info": {
   "codemirror_mode": {
    "name": "ipython",
    "version": 3
   },
   "file_extension": ".py",
   "mimetype": "text/x-python",
   "name": "python",
   "nbconvert_exporter": "python",
   "pygments_lexer": "ipython3",
   "version": "3.9.7"
  }
 },
 "nbformat": 4,
 "nbformat_minor": 5
}
