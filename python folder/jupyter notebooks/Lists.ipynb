{
 "cells": [
  {
   "cell_type": "markdown",
   "id": "eee4e72c",
   "metadata": {},
   "source": [
    "#### Create a List"
   ]
  },
  {
   "cell_type": "code",
   "execution_count": 6,
   "id": "3ba13c48",
   "metadata": {},
   "outputs": [
    {
     "name": "stdout",
     "output_type": "stream",
     "text": [
      "<class 'list'>\n",
      "<class 'tuple'>\n"
     ]
    }
   ],
   "source": [
    "li = [1, 2.0, 3, \"arya\"]\n",
    "tup = 1, 2, 3.0, 4, \"arya\"\n",
    "\n",
    "print(type(li))\n",
    "print(type(tup))"
   ]
  },
  {
   "cell_type": "markdown",
   "id": "08258d3b",
   "metadata": {},
   "source": [
    "#### Access and Change elements in a List"
   ]
  },
  {
   "cell_type": "code",
   "execution_count": 10,
   "id": "04317743",
   "metadata": {},
   "outputs": [
    {
     "data": {
      "text/plain": [
       "2.0"
      ]
     },
     "execution_count": 10,
     "metadata": {},
     "output_type": "execute_result"
    }
   ],
   "source": [
    "# indexing starts from '0'\n",
    "li[1]"
   ]
  },
  {
   "cell_type": "code",
   "execution_count": 13,
   "id": "68f72895",
   "metadata": {},
   "outputs": [
    {
     "name": "stdout",
     "output_type": "stream",
     "text": [
      "[1, 5.0, 3, 'arya']\n"
     ]
    }
   ],
   "source": [
    "li[1]=5.0\n",
    "print(li)"
   ]
  },
  {
   "cell_type": "markdown",
   "id": "b2cd707d",
   "metadata": {},
   "source": [
    "#### Slicing of a List"
   ]
  },
  {
   "cell_type": "code",
   "execution_count": 16,
   "id": "ff5d7149",
   "metadata": {},
   "outputs": [
    {
     "name": "stdout",
     "output_type": "stream",
     "text": [
      "[1, 2, 3, 4, 5, 6, 7]\n",
      "[2, 4]\n"
     ]
    }
   ],
   "source": [
    "li=[1, 2, 3, 4, 5, 6, 7]\n",
    "li1 = li[1 : 5 : 2] # start : end : steps\n",
    "\n",
    "print(li)\n",
    "print(li1)"
   ]
  },
  {
   "cell_type": "code",
   "execution_count": 19,
   "id": "f592d331",
   "metadata": {},
   "outputs": [
    {
     "name": "stdout",
     "output_type": "stream",
     "text": [
      "[1, 3, 5, 7]\n"
     ]
    }
   ],
   "source": [
    "li2 = li[0 : 100 : 2]\n",
    "print(li2)"
   ]
  },
  {
   "cell_type": "markdown",
   "id": "cb50566b",
   "metadata": {},
   "source": [
    "#### appending in a list"
   ]
  },
  {
   "cell_type": "code",
   "execution_count": 25,
   "id": "f4f68b8d",
   "metadata": {},
   "outputs": [
    {
     "name": "stdout",
     "output_type": "stream",
     "text": [
      "[1, 2, 3, 4, 5, 6, 7, 9, 'arya']\n"
     ]
    }
   ],
   "source": [
    "li=[1, 2, 3, 4, 5, 6, 7]\n",
    "li.append(9)\n",
    "li.append('arya')\n",
    "print(li)"
   ]
  },
  {
   "cell_type": "code",
   "execution_count": 29,
   "id": "9b7fdad4",
   "metadata": {},
   "outputs": [
    {
     "name": "stdout",
     "output_type": "stream",
     "text": [
      "[1, 'tito', 2, 3, 4, 5, 6, 7]\n"
     ]
    }
   ],
   "source": [
    "# appending occurs at last whereas inserting occurs anywhere\n",
    "li=[1, 2, 3, 4, 5, 6, 7]\n",
    "li.insert(1, 'tito')\n",
    "print(li)"
   ]
  },
  {
   "cell_type": "code",
   "execution_count": 31,
   "id": "3c53a83d",
   "metadata": {},
   "outputs": [
    {
     "name": "stdout",
     "output_type": "stream",
     "text": [
      "[1, 2, 3, 4, 5, 6, 7, 'tito']\n"
     ]
    }
   ],
   "source": [
    "li=[1, 2, 3, 4, 5, 6, 7]\n",
    "li.insert(100, 'tito') # automatically adds at last\n",
    "print(li)"
   ]
  },
  {
   "cell_type": "code",
   "execution_count": 33,
   "id": "465f60e3",
   "metadata": {},
   "outputs": [
    {
     "name": "stdout",
     "output_type": "stream",
     "text": [
      "[1, 2, 3, 4, 5, 6, 7, [8, 9, 10]]\n"
     ]
    }
   ],
   "source": [
    "li=[1, 2, 3, 4, 5, 6, 7]\n",
    "li.append([8, 9, 10])\n",
    "print(li)"
   ]
  },
  {
   "cell_type": "code",
   "execution_count": 35,
   "id": "b50aaa12",
   "metadata": {},
   "outputs": [
    {
     "name": "stdout",
     "output_type": "stream",
     "text": [
      "[1, 2, 3, 4, 5, 6, 7, 8, 9, 10]\n"
     ]
    }
   ],
   "source": [
    "li=[1, 2, 3, 4, 5, 6, 7]\n",
    "li.extend([8, 9, 10]) # extend function allows us to retrieve data from [] and add it to original list\n",
    "print(li)"
   ]
  },
  {
   "cell_type": "markdown",
   "id": "65f427f0",
   "metadata": {},
   "source": [
    "#### Removing elements from List"
   ]
  },
  {
   "cell_type": "code",
   "execution_count": 41,
   "id": "938c64c9",
   "metadata": {},
   "outputs": [
    {
     "name": "stdout",
     "output_type": "stream",
     "text": [
      "[1, 3, 2, 4, 5, 6, 7]\n"
     ]
    }
   ],
   "source": [
    "# you cannot remove elements not present in the list\n",
    "\n",
    "li=[1, 2, 3, 2, 4, 5, 6, 7]\n",
    "li.remove(2) # removes the first occurence of 2\n",
    "print(li)"
   ]
  },
  {
   "cell_type": "code",
   "execution_count": 44,
   "id": "a3cb6091",
   "metadata": {},
   "outputs": [
    {
     "name": "stdout",
     "output_type": "stream",
     "text": [
      "[1, 2, 3, 2, 4, 5, 6]\n"
     ]
    }
   ],
   "source": [
    "li=[1, 2, 3, 2, 4, 5, 6, 7]\n",
    "li.pop() # removes from the last\n",
    "print(li)"
   ]
  },
  {
   "cell_type": "code",
   "execution_count": 46,
   "id": "ae7de959",
   "metadata": {},
   "outputs": [
    {
     "data": {
      "text/plain": [
       "3"
      ]
     },
     "execution_count": 46,
     "metadata": {},
     "output_type": "execute_result"
    }
   ],
   "source": [
    "li=[1, 2, 3, 2, 4, 5, 6, 7]\n",
    "li.pop(2)"
   ]
  },
  {
   "cell_type": "code",
   "execution_count": 48,
   "id": "6f2cb999",
   "metadata": {},
   "outputs": [
    {
     "data": {
      "text/plain": [
       "8"
      ]
     },
     "execution_count": 48,
     "metadata": {},
     "output_type": "execute_result"
    }
   ],
   "source": [
    "li=[1, 2, 3, 2, 4, 5, 6, 7]\n",
    "len(li)"
   ]
  },
  {
   "cell_type": "markdown",
   "id": "b59ad7b9",
   "metadata": {},
   "source": [
    "#### Looping through a List"
   ]
  },
  {
   "cell_type": "code",
   "execution_count": 55,
   "id": "a87b1292",
   "metadata": {},
   "outputs": [
    {
     "name": "stdout",
     "output_type": "stream",
     "text": [
      "5\n",
      "4\n",
      "2\n",
      "1\n"
     ]
    }
   ],
   "source": [
    "# using index\n",
    "\n",
    "li=[5, 4, 2, 1]\n",
    "for i in range(len(li)) :\n",
    "    print(li[i])"
   ]
  },
  {
   "cell_type": "code",
   "execution_count": 54,
   "id": "6d7c668b",
   "metadata": {},
   "outputs": [
    {
     "name": "stdout",
     "output_type": "stream",
     "text": [
      "5\n",
      "4\n",
      "2\n",
      "1\n"
     ]
    }
   ],
   "source": [
    "# using iterator\n",
    "\n",
    "li=[5, 4, 2, 1]\n",
    "for itr in li :\n",
    "    print(itr)"
   ]
  },
  {
   "cell_type": "code",
   "execution_count": 59,
   "id": "4d567c2a",
   "metadata": {},
   "outputs": [
    {
     "name": "stdout",
     "output_type": "stream",
     "text": [
      "2\n",
      "3\n",
      "9\n",
      "34\n"
     ]
    }
   ],
   "source": [
    "# using slicing\n",
    "li=[5, 4, 2, 1, 3, 7, 9, 11, 34, 23, 45]\n",
    "for itr in li[2 : 10 : 2] :\n",
    "    print(itr)"
   ]
  },
  {
   "cell_type": "markdown",
   "id": "2c0b9e96",
   "metadata": {},
   "source": [
    "#### Negative indexing of List"
   ]
  },
  {
   "cell_type": "code",
   "execution_count": 62,
   "id": "39d7ce8c",
   "metadata": {},
   "outputs": [
    {
     "name": "stdout",
     "output_type": "stream",
     "text": [
      "23\n"
     ]
    }
   ],
   "source": [
    "li=[5, 4, 2, 1, 3, 7, 9, 11, 34, 23, 'arya']\n",
    "print(li[-2]) # prints -xth element in the list"
   ]
  },
  {
   "cell_type": "markdown",
   "id": "6f5c0ff9",
   "metadata": {},
   "source": [
    "#### Sequencing"
   ]
  },
  {
   "cell_type": "code",
   "execution_count": 66,
   "id": "c1345ff9",
   "metadata": {},
   "outputs": [
    {
     "name": "stdout",
     "output_type": "stream",
     "text": [
      "[2, 3, 9, 34]\n"
     ]
    }
   ],
   "source": [
    "# list_name [start : end : steps]\n",
    "# we've discussed abt it earlier\n",
    "\n",
    "li=[5, 4, 2, 1, 3, 7, 9, 11, 34, 23, 'arya']\n",
    "li1=li[-9 : -1 : 2]\n",
    "print(li1)"
   ]
  },
  {
   "cell_type": "code",
   "execution_count": 68,
   "id": "7e85a0bd",
   "metadata": {},
   "outputs": [
    {
     "data": {
      "text/plain": [
       "['arya']"
      ]
     },
     "execution_count": 68,
     "metadata": {},
     "output_type": "execute_result"
    }
   ],
   "source": [
    "li[-1:]"
   ]
  },
  {
   "cell_type": "markdown",
   "id": "582663e9",
   "metadata": {},
   "source": [
    "#### Taking input in a List"
   ]
  },
  {
   "cell_type": "markdown",
   "id": "c3e01f28",
   "metadata": {},
   "source": [
    "Line Seperated Input"
   ]
  },
  {
   "cell_type": "code",
   "execution_count": 70,
   "id": "d38d0b41",
   "metadata": {},
   "outputs": [
    {
     "name": "stdout",
     "output_type": "stream",
     "text": [
      "6\n"
     ]
    },
    {
     "data": {
      "text/plain": [
       "str"
      ]
     },
     "execution_count": 70,
     "metadata": {},
     "output_type": "execute_result"
    }
   ],
   "source": [
    "# input() by default converts everything to a list\n",
    "\n",
    "n=input()\n",
    "type(n)"
   ]
  },
  {
   "cell_type": "code",
   "execution_count": 72,
   "id": "26957003",
   "metadata": {},
   "outputs": [
    {
     "name": "stdout",
     "output_type": "stream",
     "text": [
      "3\n"
     ]
    },
    {
     "data": {
      "text/plain": [
       "int"
      ]
     },
     "execution_count": 72,
     "metadata": {},
     "output_type": "execute_result"
    }
   ],
   "source": [
    "# although, we can specify the type of the input\n",
    "\n",
    "n=int(input()) # actually, this is nothing but typecasting\n",
    "type(n)"
   ]
  },
  {
   "cell_type": "code",
   "execution_count": 74,
   "id": "a0d3448e",
   "metadata": {},
   "outputs": [
    {
     "name": "stdout",
     "output_type": "stream",
     "text": [
      "3\n",
      "12\n",
      "11\n",
      "45\n",
      "[12, 11, 45]\n"
     ]
    }
   ],
   "source": [
    "# now we take input in list accordingly\n",
    "\n",
    "li = [] # empty list\n",
    "n=int(input())\n",
    "for i in range(n) :\n",
    "    ele=int(input())\n",
    "    li.append(ele)\n",
    "print(li)"
   ]
  },
  {
   "cell_type": "markdown",
   "id": "0a2c4752",
   "metadata": {},
   "source": [
    "Space separated input"
   ]
  },
  {
   "cell_type": "code",
   "execution_count": 77,
   "id": "9194f415",
   "metadata": {},
   "outputs": [
    {
     "name": "stdout",
     "output_type": "stream",
     "text": [
      "1 2 23 12 1\n"
     ]
    },
    {
     "data": {
      "text/plain": [
       "['1', '2', '23', '12', '1']"
      ]
     },
     "execution_count": 77,
     "metadata": {},
     "output_type": "execute_result"
    }
   ],
   "source": [
    "# using split function\n",
    "\n",
    "str=input()\n",
    "str1=str.split(' ') # OR, str.split()\n",
    "str1"
   ]
  },
  {
   "cell_type": "code",
   "execution_count": 81,
   "id": "82100f6c",
   "metadata": {},
   "outputs": [
    {
     "name": "stdout",
     "output_type": "stream",
     "text": [
      "1 2 23 12\n",
      "[1, 2, 23, 12]\n",
      "<class 'int'>\n"
     ]
    }
   ],
   "source": [
    "# OR\n",
    "\n",
    "li=[int(itr) for itr in input().split(' ')] # shortcut\n",
    "\n",
    "print(li)\n",
    "print(type(li[0]))"
   ]
  }
 ],
 "metadata": {
  "kernelspec": {
   "display_name": "Python 3 (ipykernel)",
   "language": "python",
   "name": "python3"
  },
  "language_info": {
   "codemirror_mode": {
    "name": "ipython",
    "version": 3
   },
   "file_extension": ".py",
   "mimetype": "text/x-python",
   "name": "python",
   "nbconvert_exporter": "python",
   "pygments_lexer": "ipython3",
   "version": "3.9.7"
  }
 },
 "nbformat": 4,
 "nbformat_minor": 5
}
